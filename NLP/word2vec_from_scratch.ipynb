{
 "cells": [
  {
   "cell_type": "markdown",
   "metadata": {},
   "source": [
    "This note boo is taken from this tutorial https://jaketae.github.io/study/word2vec/ on implementing word2vec from scratch"
   ]
  },
  {
   "cell_type": "code",
   "execution_count": 15,
   "metadata": {},
   "outputs": [],
   "source": [
    "import pandas as pd\n",
    "import numpy as np"
   ]
  },
  {
   "cell_type": "code",
   "execution_count": 16,
   "metadata": {},
   "outputs": [],
   "source": [
    "text = '''Machine learning is the study of computer algorithms that \\\n",
    "improve automatically through experience. It is seen as a \\\n",
    "subset of artificial intelligence. Machine learning algorithms \\\n",
    "build a mathematical model based on sample data, known as \\\n",
    "training data, in order to make predictions or decisions without \\\n",
    "being explicitly programmed to do so. Machine learning algorithms \\\n",
    "are used in a wide variety of applications, such as email filtering \\\n",
    "and computer vision, where it is difficult or infeasible to develop \\\n",
    "conventional algorithms to perform the needed tasks.'''"
   ]
  },
  {
   "cell_type": "code",
   "execution_count": 17,
   "metadata": {},
   "outputs": [],
   "source": [
    "text = '''Machine learning is the study of computer algorithms that \\\n",
    "improve automatically through experience. It is seen as a \\\n",
    "subset of artificial intelligence. Machine learning algorithms'''"
   ]
  },
  {
   "cell_type": "markdown",
   "metadata": {},
   "source": [
    "### Tokenization"
   ]
  },
  {
   "cell_type": "code",
   "execution_count": 18,
   "metadata": {},
   "outputs": [],
   "source": [
    "import re\n",
    "from string import punctuation \n",
    "\n",
    "def tokenize(text):\n",
    "    pattern = re.compile(r'[A-Za-z]+[\\w^\\']*|[\\w^\\']*[A-Za-z]+[\\w^\\']*')\n",
    "    return pattern.findall(text.lower())\n",
    "\n",
    "def mapping(tokens):\n",
    "    '''create a map between tokens and indices'''\n",
    "    word_to_id = {}\n",
    "    id_to_word = {}\n",
    "    \n",
    "    for i, token in enumerate(set(tokens)):\n",
    "        word_to_id[token] = i\n",
    "        id_to_word[i] = token\n",
    "    \n",
    "    return word_to_id, id_to_word\n"
   ]
  },
  {
   "cell_type": "code",
   "execution_count": null,
   "metadata": {},
   "outputs": [],
   "source": []
  },
  {
   "cell_type": "code",
   "execution_count": 19,
   "metadata": {},
   "outputs": [],
   "source": [
    "tokens = tokenize(text)"
   ]
  },
  {
   "cell_type": "code",
   "execution_count": 20,
   "metadata": {},
   "outputs": [
    {
     "data": {
      "text/plain": [
       "{'that': 0,\n",
       " 'is': 1,\n",
       " 'improve': 2,\n",
       " 'algorithms': 3,\n",
       " 'through': 4,\n",
       " 'machine': 5,\n",
       " 'study': 6,\n",
       " 'experience': 7,\n",
       " 'subset': 8,\n",
       " 'of': 9,\n",
       " 'a': 10,\n",
       " 'artificial': 11,\n",
       " 'computer': 12,\n",
       " 'the': 13,\n",
       " 'learning': 14,\n",
       " 'as': 15,\n",
       " 'seen': 16,\n",
       " 'intelligence': 17,\n",
       " 'it': 18,\n",
       " 'automatically': 19}"
      ]
     },
     "execution_count": 20,
     "metadata": {},
     "output_type": "execute_result"
    }
   ],
   "source": [
    "word_to_idex, idex_to_word = mapping(tokens)\n",
    "word_to_idex"
   ]
  },
  {
   "cell_type": "markdown",
   "metadata": {},
   "source": [
    "### Generate training Data\n",
    "- We know tokens are strings, we need to encode them numerically using one-hot vectorization. \n",
    "- We also need to generate the input and target values.\n",
    "- we need to also create the context of each word"
   ]
  },
  {
   "cell_type": "code",
   "execution_count": 26,
   "metadata": {},
   "outputs": [],
   "source": [
    "np.random.seed(42)\n",
    "\n",
    "\n",
    "def generate_training_data(tokens, word_to_idex, window):\n",
    "    X = []\n",
    "    y = []\n",
    "    n_tokens = len(tokens)\n",
    "    \n",
    "    for i in range(n_tokens):\n",
    "        idx = concat(\n",
    "            range(max(0, i - window), i), \n",
    "            range(i, min(n_tokens, i + window + 1))\n",
    "        )\n",
    "        for j in idx:\n",
    "            if i == j:\n",
    "                continue\n",
    "            X.append(one_hot_encode(word_to_idex[tokens[i]], len(word_to_idex)))\n",
    "            y.append(one_hot_encode(word_to_idex[tokens[j]], len(word_to_idex)))\n",
    "    \n",
    "    return np.asarray(X), np.asarray(y)\n",
    "\n",
    "\n",
    "def concat(*iterables):\n",
    "    for iterable in iterables:\n",
    "        yield from iterable\n",
    "\n",
    "\n",
    "def one_hot_encode(id, vocab_size):\n",
    "    res = [0] * vocab_size\n",
    "    res[id] = 1\n",
    "    return res\n"
   ]
  },
  {
   "cell_type": "code",
   "execution_count": 35,
   "metadata": {},
   "outputs": [],
   "source": [
    "X, y = generate_training_data(tokens, word_to_idex, 2)"
   ]
  },
  {
   "cell_type": "code",
   "execution_count": 36,
   "metadata": {},
   "outputs": [
    {
     "data": {
      "text/plain": [
       "(94, 20)"
      ]
     },
     "execution_count": 36,
     "metadata": {},
     "output_type": "execute_result"
    }
   ],
   "source": [
    "X.shape"
   ]
  },
  {
   "cell_type": "code",
   "execution_count": 37,
   "metadata": {},
   "outputs": [
    {
     "data": {
      "text/plain": [
       "(94, 20)"
      ]
     },
     "execution_count": 37,
     "metadata": {},
     "output_type": "execute_result"
    }
   ],
   "source": [
    "y.shape"
   ]
  },
  {
   "cell_type": "code",
   "execution_count": 34,
   "metadata": {},
   "outputs": [
    {
     "data": {
      "text/plain": [
       "array([[0, 0, 0, ..., 0, 0, 0],\n",
       "       [0, 0, 0, ..., 0, 0, 0],\n",
       "       [0, 0, 0, ..., 0, 0, 0],\n",
       "       ...,\n",
       "       [0, 0, 0, ..., 0, 0, 0],\n",
       "       [0, 0, 0, ..., 0, 0, 0],\n",
       "       [0, 0, 0, ..., 0, 0, 0]])"
      ]
     },
     "execution_count": 34,
     "metadata": {},
     "output_type": "execute_result"
    }
   ],
   "source": [
    "X"
   ]
  },
  {
   "cell_type": "code",
   "execution_count": null,
   "metadata": {},
   "outputs": [],
   "source": [
    "The representation we will use for the model is a Python dictionary, whose values are the weight matrices and keys, the name with which we will refer to the weight matrices \"W1\" and \"W2\" to refer to these weights."
   ]
  },
  {
   "cell_type": "markdown",
   "metadata": {},
   "source": [
    "Both X and y are matrices with 330 rows and 60 columns. \n",
    "- 330 is the number of training examples we have (this number to have been larger had we used a larger window).\n",
    "- 60 is the size of our corpus, or the number of unique tokens we have in the original text.  \n",
    "Since we have one-hot encoded both the input and output as 60-dimensional sparse vectors, this is expected."
   ]
  },
  {
   "cell_type": "markdown",
   "metadata": {},
   "source": [
    "### Embedding Model"
   ]
  },
  {
   "cell_type": "markdown",
   "metadata": {},
   "source": [
    "The representation we will use for the model is a Python dictionary, whose values are the weight matrices and keys, the name with which we will refer to the weight matrices \"W1\" and \"W2\" to refer to these weights."
   ]
  },
  {
   "cell_type": "code",
   "execution_count": 38,
   "metadata": {},
   "outputs": [],
   "source": [
    "def init_network(vocab_size, n_embedding):\n",
    "    model = {\n",
    "        \"w1\": np.random.randn(vocab_size, n_embedding),\n",
    "        \"w2\": np.random.randn(n_embedding, vocab_size)\n",
    "    }\n",
    "    return model\n"
   ]
  },
  {
   "cell_type": "code",
   "execution_count": 40,
   "metadata": {
    "collapsed": true
   },
   "outputs": [
    {
     "data": {
      "text/plain": [
       "{'w1': array([[-1.59442766, -0.59937502,  0.0052437 ,  0.04698059, -0.45006547,\n",
       "          0.62284993, -1.06762043, -0.14237949,  0.12029563,  0.51443883],\n",
       "        [ 0.71161488, -1.12464209, -1.53411417,  1.27767682,  0.33231401,\n",
       "         -0.74848654,  1.55115198,  0.11567463,  1.17929718,  0.06751848],\n",
       "        [ 2.06074792,  1.75534084, -0.24896415,  0.97157095,  0.64537595,\n",
       "          1.36863156, -0.96492346,  0.68605146,  1.05842449, -1.75873949],\n",
       "        [-1.18325851, -2.03923218, -0.26940683,  0.71754226,  1.50235705,\n",
       "          0.07409478,  1.62861555, -1.38010146, -1.70338244, -0.0555477 ],\n",
       "        [ 0.38406545, -0.03269475, -2.0674421 , -0.08912004, -1.3044695 ,\n",
       "          0.66967255,  0.36659825, -0.93987979, -0.51386692, -1.05921352],\n",
       "        [-0.0626791 ,  0.95514232, -0.98572605,  0.50404652, -0.53025762,\n",
       "         -0.79287283, -0.10703036, -1.03524232, -0.55364931, -1.19787789],\n",
       "        [ 1.96472513,  0.03526355, -0.69972551,  0.21397991, -0.11232805,\n",
       "         -0.2209696 ,  0.6141667 ,  0.75750771, -0.53050115, -0.57581824],\n",
       "        [-0.2750517 , -2.30192116, -1.51519106,  1.36687427,  1.64496771,\n",
       "         -0.24903604,  0.57655696,  0.31125015,  3.07888081,  1.11957491],\n",
       "        [-0.12791759, -0.95554044, -1.60644632,  0.20346364, -0.75635075,\n",
       "         -1.42225371, -0.64657288, -1.081548  ,  1.68714164,  0.88163976],\n",
       "        [-0.00797264,  1.47994414,  0.07736831, -0.8612842 ,  1.52312408,\n",
       "          0.53891004, -1.03724615, -0.19033868, -0.87561825, -1.38279973],\n",
       "        [ 0.92617755,  1.90941664, -1.39856757,  0.56296924, -0.65064257,\n",
       "         -0.48712538, -0.59239392, -0.86399077,  0.04852163, -0.83095012],\n",
       "        [ 0.27045683, -0.05023811, -0.23894805, -0.90756366, -0.57677133,\n",
       "          0.75539123,  0.50091719, -0.97755524,  0.09933231,  0.75138712],\n",
       "        [-1.66940528,  0.54336019, -0.66262376,  0.57059867, -0.76325916,\n",
       "         -1.8048821 , -1.62754244,  0.04808495,  0.2597225 , -0.90431663],\n",
       "        [ 0.63859246, -1.66152006, -0.0660798 , -1.2110162 , -0.65183611,\n",
       "          0.04739867, -0.86041337, -0.38455554,  1.00629281, -0.57689187],\n",
       "        [ 0.83569211, -1.12970685,  0.52980418,  1.44156862, -2.4716445 ,\n",
       "         -0.79689526,  0.57707213, -0.20304539,  0.37114587, -0.60398519],\n",
       "        [ 0.08658979, -0.15567724,  1.16778206,  0.25442084,  0.33760266,\n",
       "         -0.41187697, -0.48760622, -0.43255819,  0.39445214, -0.42098448],\n",
       "        [ 0.28977486,  2.0754008 ,  0.8711247 , -0.32602353,  1.20121392,\n",
       "         -0.40807537, -2.03812454, -1.00808631, -1.87079192, -0.35151348],\n",
       "        [ 0.01841838,  1.67643731,  0.32692737, -0.21910053,  0.82940558,\n",
       "         -2.21113531,  0.23561456,  0.77086519, -1.47858625,  1.14375404],\n",
       "        [ 0.33849641, -0.41528791,  0.63278187,  2.27069286,  0.18186626,\n",
       "          0.24822059, -0.4593609 , -0.84984437,  0.83033582, -0.85608383],\n",
       "        [ 0.07156624, -0.47765745,  0.47897983,  0.33366211,  1.03753994,\n",
       "         -0.5100164 , -0.26987494, -0.97876372, -0.44429326,  0.37730049]]),\n",
       " 'w2': array([[ 0.75698862, -0.92216532,  0.86960592,  1.35563786,  0.4134349 ,\n",
       "          1.87679581, -0.7737892 , -1.2446547 , -1.77872025,  1.49604431,\n",
       "          0.65436566, -0.05558467,  0.27996863, -1.12548905,  2.44575198,\n",
       "          0.12922118,  0.10939479,  0.72576662,  0.48100923,  0.22388402],\n",
       "        [-0.79047446,  0.47146836,  1.8820245 ,  1.34542005,  1.59318663,\n",
       "         -0.51121568, -0.98960482, -0.12578692,  0.05572491,  1.09419152,\n",
       "         -1.69246463,  1.52955032, -0.1580079 , -0.42688107, -1.01210438,\n",
       "         -1.65485667,  0.82317058,  0.07331797, -1.2899609 , -1.29507877],\n",
       "        [-0.3357847 ,  1.66902153, -0.25959135, -1.50314295, -0.24574306,\n",
       "         -0.27272357, -2.69688664, -0.05429487, -0.23093453,  0.69620636,\n",
       "          1.84895609,  1.12656503, -0.26888869, -1.10652591,  2.5733598 ,\n",
       "          0.05921843,  0.01392929, -0.02412509,  0.19808476, -0.14436041],\n",
       "        [-0.57366201, -0.54685894, -0.03275327, -0.54342477, -0.71284578,\n",
       "          0.10643023, -0.25497722,  1.50399299, -2.65096981,  1.09150685,\n",
       "          1.24608519, -2.07339023, -0.34268759, -0.37144087, -1.40751169,\n",
       "         -0.77781669, -1.11057585,  1.75227044,  0.93567839,  1.27155509],\n",
       "        [ 0.72167206, -1.12905177, -0.52452027,  0.48937456, -1.22212781,\n",
       "          0.71299843, -0.2403254 , -0.37482081,  0.71095997,  0.44426331,\n",
       "         -0.36096617,  1.1593298 , -1.08106333,  0.61593561,  0.59310126,\n",
       "         -0.30954644,  0.32613302, -1.25111358,  0.92402702, -0.18490214],\n",
       "        [-0.52272302,  1.04900923, -0.70434369, -1.4084613 , -1.55662917,\n",
       "          0.60600995, -1.28042935,  1.75479418, -2.08192941,  1.69645637,\n",
       "          0.21101747, -0.09671311, -0.54491909,  0.39913611, -0.0376347 ,\n",
       "          1.10330188,  0.11422765,  0.15030176, -0.36361221, -0.05694562],\n",
       "        [ 0.30780177, -1.71016839, -1.34818542,  0.74326409,  0.17086544,\n",
       "         -0.18398334,  0.01843393,  0.34758171, -0.53975968, -0.77830473,\n",
       "          0.19584526, -0.97837278,  0.40825276, -1.7025836 ,  1.02915564,\n",
       "          0.47259748,  0.25602973,  0.98269098,  1.66547444,  1.01437007],\n",
       "        [-1.84087423, -1.27957697, -0.62481858,  0.02609105,  0.51765902,\n",
       "         -0.72574381,  0.18676676, -0.75538293, -0.6115178 , -1.4066611 ,\n",
       "         -0.92323325, -1.35168461, -0.97587325,  1.0536418 , -0.94939889,\n",
       "          2.63238206,  0.4933179 ,  0.18483612, -0.85835778,  0.70030988],\n",
       "        [-0.57563783,  0.12200981,  2.56008454, -0.0960599 ,  1.14927333,\n",
       "         -0.70317643, -0.03498849,  1.77080064, -0.62696706,  1.81244856,\n",
       "          0.70775194, -0.56246678,  0.63240774,  0.97255445,  0.62180996,\n",
       "         -1.57022472, -0.72713718, -0.24751864, -0.07443343,  0.6206721 ],\n",
       "        [ 0.177701  , -1.33534436,  0.38019785,  0.61058575,  0.55979045,\n",
       "          1.08078073,  0.83392215,  0.45918008, -0.07016571, -1.66096093,\n",
       "          0.42961822,  0.20768769,  0.27157884, -1.27674858, -1.08105654,\n",
       "          1.05315285, -0.03955515,  0.6815007 ,  0.02831838,  0.02975614]])}"
      ]
     },
     "execution_count": 40,
     "metadata": {},
     "output_type": "execute_result"
    }
   ],
   "source": [
    "model = init_network(len(word_to_idex), 10)\n",
    "model"
   ]
  },
  {
   "cell_type": "markdown",
   "metadata": {},
   "source": [
    "### Forward Propagation"
   ]
  },
  {
   "cell_type": "code",
   "execution_count": 45,
   "metadata": {},
   "outputs": [],
   "source": [
    "def forward(model, X, return_cache=True):\n",
    "    cache = {}\n",
    "    \n",
    "    cache[\"a1\"] = X @ model[\"w1\"]\n",
    "    cache[\"a2\"] = cache[\"a1\"] @ model[\"w2\"]\n",
    "    cache[\"z\"] = softmax(cache[\"a2\"])\n",
    "    \n",
    "    if not return_cache:\n",
    "        return cache[\"z\"]\n",
    "    \n",
    "    return cache"
   ]
  },
  {
   "cell_type": "code",
   "execution_count": 46,
   "metadata": {},
   "outputs": [
    {
     "data": {
      "text/plain": [
       "(94, 10)"
      ]
     },
     "execution_count": 46,
     "metadata": {},
     "output_type": "execute_result"
    }
   ],
   "source": [
    "# check the dimensionality of the matrices\n",
    "(X @ model[\"w1\"]).shape"
   ]
  },
  {
   "cell_type": "markdown",
   "metadata": {},
   "source": [
    "All the 330 tokens in the text to be converted into 10-dimensional vectors"
   ]
  },
  {
   "cell_type": "code",
   "execution_count": 47,
   "metadata": {},
   "outputs": [
    {
     "data": {
      "text/plain": [
       "(94, 20)"
      ]
     },
     "execution_count": 47,
     "metadata": {},
     "output_type": "execute_result"
    }
   ],
   "source": [
    "# check the dimensionality after passing through the second layer\n",
    "(X @ model[\"w1\"] @ model[\"w2\"]).shape"
   ]
  },
  {
   "cell_type": "markdown",
   "metadata": {},
   "source": [
    "### Backpropagation"
   ]
  },
  {
   "cell_type": "code",
   "execution_count": 48,
   "metadata": {},
   "outputs": [],
   "source": [
    "def backward(model, X, y, alpha):\n",
    "    \n",
    "    cache  = forward(model, X)\n",
    "    da2 = cache[\"z\"] - y\n",
    "    dw2 = cache[\"a1\"].T @ da2\n",
    "    da1 = da2 @ model[\"w2\"].T\n",
    "    dw1 = X.T @ da1\n",
    "    \n",
    "    assert(dw2.shape == model[\"w2\"].shape)\n",
    "    assert(dw1.shape == model[\"w1\"].shape)\n",
    "    \n",
    "    model[\"w1\"] -= alpha * dw1\n",
    "    model[\"w2\"] -= alpha * dw2\n",
    "    \n",
    "    return cross_entropy(cache[\"z\"], y)\n"
   ]
  },
  {
   "cell_type": "code",
   "execution_count": 49,
   "metadata": {},
   "outputs": [],
   "source": [
    "def cross_entropy(z, y):\n",
    "    return - np.sum(np.log(z) * y)\n",
    "\n",
    "def softmax(X):\n",
    "    res = []\n",
    "    for x in X:\n",
    "        exp = np.exp(x)\n",
    "        res.append(exp / exp.sum())\n",
    "    return res"
   ]
  },
  {
   "cell_type": "markdown",
   "metadata": {},
   "source": [
    "### training the model"
   ]
  },
  {
   "cell_type": "code",
   "execution_count": 50,
   "metadata": {},
   "outputs": [],
   "source": [
    "import matplotlib.pyplot as plt\n",
    "%matplotlib inline\n",
    "%config InlineBackend.figure_format = 'svg'\n",
    "plt.style.use(\"seaborn\")"
   ]
  },
  {
   "cell_type": "code",
   "execution_count": 51,
   "metadata": {},
   "outputs": [
    {
     "data": {
      "image/svg+xml": [
       "<?xml version=\"1.0\" encoding=\"utf-8\" standalone=\"no\"?>\n",
       "<!DOCTYPE svg PUBLIC \"-//W3C//DTD SVG 1.1//EN\"\n",
       "  \"http://www.w3.org/Graphics/SVG/1.1/DTD/svg11.dtd\">\n",
       "<!-- Created with matplotlib (https://matplotlib.org/) -->\n",
       "<svg height=\"329.701875pt\" version=\"1.1\" viewBox=\"0 0 484.482812 329.701875\" width=\"484.482812pt\" xmlns=\"http://www.w3.org/2000/svg\" xmlns:xlink=\"http://www.w3.org/1999/xlink\">\n",
       " <metadata>\n",
       "  <rdf:RDF xmlns:cc=\"http://creativecommons.org/ns#\" xmlns:dc=\"http://purl.org/dc/elements/1.1/\" xmlns:rdf=\"http://www.w3.org/1999/02/22-rdf-syntax-ns#\">\n",
       "   <cc:Work>\n",
       "    <dc:type rdf:resource=\"http://purl.org/dc/dcmitype/StillImage\"/>\n",
       "    <dc:date>2021-06-03T18:04:46.872829</dc:date>\n",
       "    <dc:format>image/svg+xml</dc:format>\n",
       "    <dc:creator>\n",
       "     <cc:Agent>\n",
       "      <dc:title>Matplotlib v3.3.4, https://matplotlib.org/</dc:title>\n",
       "     </cc:Agent>\n",
       "    </dc:creator>\n",
       "   </cc:Work>\n",
       "  </rdf:RDF>\n",
       " </metadata>\n",
       " <defs>\n",
       "  <style type=\"text/css\">*{stroke-linecap:butt;stroke-linejoin:round;}</style>\n",
       " </defs>\n",
       " <g id=\"figure_1\">\n",
       "  <g id=\"patch_1\">\n",
       "   <path d=\"M 0 329.701875 \n",
       "L 484.482812 329.701875 \n",
       "L 484.482812 0 \n",
       "L 0 0 \n",
       "z\n",
       "\" style=\"fill:#ffffff;\"/>\n",
       "  </g>\n",
       "  <g id=\"axes_1\">\n",
       "   <g id=\"patch_2\">\n",
       "    <path d=\"M 30.882812 306.18 \n",
       "L 477.282812 306.18 \n",
       "L 477.282812 7.2 \n",
       "L 30.882812 7.2 \n",
       "z\n",
       "\" style=\"fill:#eaeaf2;\"/>\n",
       "   </g>\n",
       "   <g id=\"matplotlib.axis_1\">\n",
       "    <g id=\"xtick_1\">\n",
       "     <g id=\"line2d_1\">\n",
       "      <path clip-path=\"url(#pfaaf1603b9)\" d=\"M 51.173722 306.18 \n",
       "L 51.173722 7.2 \n",
       "\" style=\"fill:none;stroke:#ffffff;stroke-linecap:round;\"/>\n",
       "     </g>\n",
       "     <g id=\"line2d_2\"/>\n",
       "     <g id=\"text_1\">\n",
       "      <!-- 0 -->\n",
       "      <g style=\"fill:#262626;\" transform=\"translate(48.393253 320.426875)scale(0.1 -0.1)\">\n",
       "       <defs>\n",
       "        <path d=\"M 51.703125 34.421875 \n",
       "Q 51.703125 17.1875 45.625 8.09375 \n",
       "Q 39.546875 -0.984375 27.6875 -0.984375 \n",
       "Q 15.828125 -0.984375 9.859375 8.046875 \n",
       "Q 3.90625 17.09375 3.90625 34.421875 \n",
       "Q 3.90625 52.15625 9.6875 60.984375 \n",
       "Q 15.484375 69.828125 27.984375 69.828125 \n",
       "Q 40.140625 69.828125 45.921875 60.890625 \n",
       "Q 51.703125 51.953125 51.703125 34.421875 \n",
       "z\n",
       "M 42.78125 34.421875 \n",
       "Q 42.78125 49.3125 39.328125 56 \n",
       "Q 35.890625 62.703125 27.984375 62.703125 \n",
       "Q 19.875 62.703125 16.328125 56.109375 \n",
       "Q 12.796875 49.515625 12.796875 34.421875 \n",
       "Q 12.796875 19.78125 16.375 12.984375 \n",
       "Q 19.96875 6.203125 27.78125 6.203125 \n",
       "Q 35.546875 6.203125 39.15625 13.125 \n",
       "Q 42.78125 20.0625 42.78125 34.421875 \n",
       "z\n",
       "\" id=\"LiberationSans-48\"/>\n",
       "       </defs>\n",
       "       <use xlink:href=\"#LiberationSans-48\"/>\n",
       "      </g>\n",
       "     </g>\n",
       "    </g>\n",
       "    <g id=\"xtick_2\">\n",
       "     <g id=\"line2d_3\">\n",
       "      <path clip-path=\"url(#pfaaf1603b9)\" d=\"M 133.993759 306.18 \n",
       "L 133.993759 7.2 \n",
       "\" style=\"fill:none;stroke:#ffffff;stroke-linecap:round;\"/>\n",
       "     </g>\n",
       "     <g id=\"line2d_4\"/>\n",
       "     <g id=\"text_2\">\n",
       "      <!-- 10 -->\n",
       "      <g style=\"fill:#262626;\" transform=\"translate(128.432821 320.426875)scale(0.1 -0.1)\">\n",
       "       <defs>\n",
       "        <path d=\"M 7.625 0 \n",
       "L 7.625 7.46875 \n",
       "L 25.140625 7.46875 \n",
       "L 25.140625 60.40625 \n",
       "L 9.625 49.3125 \n",
       "L 9.625 57.625 \n",
       "L 25.875 68.796875 \n",
       "L 33.984375 68.796875 \n",
       "L 33.984375 7.46875 \n",
       "L 50.734375 7.46875 \n",
       "L 50.734375 0 \n",
       "z\n",
       "\" id=\"LiberationSans-49\"/>\n",
       "       </defs>\n",
       "       <use xlink:href=\"#LiberationSans-49\"/>\n",
       "       <use x=\"55.615234\" xlink:href=\"#LiberationSans-48\"/>\n",
       "      </g>\n",
       "     </g>\n",
       "    </g>\n",
       "    <g id=\"xtick_3\">\n",
       "     <g id=\"line2d_5\">\n",
       "      <path clip-path=\"url(#pfaaf1603b9)\" d=\"M 216.813796 306.18 \n",
       "L 216.813796 7.2 \n",
       "\" style=\"fill:none;stroke:#ffffff;stroke-linecap:round;\"/>\n",
       "     </g>\n",
       "     <g id=\"line2d_6\"/>\n",
       "     <g id=\"text_3\">\n",
       "      <!-- 20 -->\n",
       "      <g style=\"fill:#262626;\" transform=\"translate(211.252858 320.426875)scale(0.1 -0.1)\">\n",
       "       <defs>\n",
       "        <path d=\"M 5.03125 0 \n",
       "L 5.03125 6.203125 \n",
       "Q 7.515625 11.921875 11.109375 16.28125 \n",
       "Q 14.703125 20.65625 18.65625 24.1875 \n",
       "Q 22.609375 27.734375 26.484375 30.765625 \n",
       "Q 30.375 33.796875 33.5 36.8125 \n",
       "Q 36.625 39.84375 38.546875 43.15625 \n",
       "Q 40.484375 46.484375 40.484375 50.6875 \n",
       "Q 40.484375 56.34375 37.15625 59.46875 \n",
       "Q 33.84375 62.59375 27.9375 62.59375 \n",
       "Q 22.3125 62.59375 18.671875 59.546875 \n",
       "Q 15.046875 56.5 14.40625 50.984375 \n",
       "L 5.421875 51.8125 \n",
       "Q 6.390625 60.0625 12.421875 64.9375 \n",
       "Q 18.453125 69.828125 27.9375 69.828125 \n",
       "Q 38.328125 69.828125 43.921875 64.921875 \n",
       "Q 49.515625 60.015625 49.515625 50.984375 \n",
       "Q 49.515625 46.96875 47.671875 43.015625 \n",
       "Q 45.84375 39.0625 42.234375 35.109375 \n",
       "Q 38.625 31.15625 28.421875 22.859375 \n",
       "Q 22.796875 18.265625 19.46875 14.578125 \n",
       "Q 16.15625 10.890625 14.703125 7.46875 \n",
       "L 50.59375 7.46875 \n",
       "L 50.59375 0 \n",
       "z\n",
       "\" id=\"LiberationSans-50\"/>\n",
       "       </defs>\n",
       "       <use xlink:href=\"#LiberationSans-50\"/>\n",
       "       <use x=\"55.615234\" xlink:href=\"#LiberationSans-48\"/>\n",
       "      </g>\n",
       "     </g>\n",
       "    </g>\n",
       "    <g id=\"xtick_4\">\n",
       "     <g id=\"line2d_7\">\n",
       "      <path clip-path=\"url(#pfaaf1603b9)\" d=\"M 299.633833 306.18 \n",
       "L 299.633833 7.2 \n",
       "\" style=\"fill:none;stroke:#ffffff;stroke-linecap:round;\"/>\n",
       "     </g>\n",
       "     <g id=\"line2d_8\"/>\n",
       "     <g id=\"text_4\">\n",
       "      <!-- 30 -->\n",
       "      <g style=\"fill:#262626;\" transform=\"translate(294.072895 320.426875)scale(0.1 -0.1)\">\n",
       "       <defs>\n",
       "        <path d=\"M 51.21875 19 \n",
       "Q 51.21875 9.46875 45.15625 4.234375 \n",
       "Q 39.109375 -0.984375 27.875 -0.984375 \n",
       "Q 17.4375 -0.984375 11.203125 3.734375 \n",
       "Q 4.984375 8.453125 3.8125 17.671875 \n",
       "L 12.890625 18.5 \n",
       "Q 14.65625 6.296875 27.875 6.296875 \n",
       "Q 34.515625 6.296875 38.296875 9.5625 \n",
       "Q 42.09375 12.84375 42.09375 19.28125 \n",
       "Q 42.09375 24.90625 37.765625 28.046875 \n",
       "Q 33.453125 31.203125 25.296875 31.203125 \n",
       "L 20.3125 31.203125 \n",
       "L 20.3125 38.8125 \n",
       "L 25.09375 38.8125 \n",
       "Q 32.328125 38.8125 36.296875 41.96875 \n",
       "Q 40.28125 45.125 40.28125 50.6875 \n",
       "Q 40.28125 56.203125 37.03125 59.390625 \n",
       "Q 33.796875 62.59375 27.390625 62.59375 \n",
       "Q 21.578125 62.59375 17.984375 59.609375 \n",
       "Q 14.40625 56.640625 13.8125 51.21875 \n",
       "L 4.984375 51.90625 \n",
       "Q 5.953125 60.359375 11.984375 65.09375 \n",
       "Q 18.015625 69.828125 27.484375 69.828125 \n",
       "Q 37.84375 69.828125 43.578125 65.015625 \n",
       "Q 49.3125 60.203125 49.3125 51.609375 \n",
       "Q 49.3125 45.015625 45.625 40.890625 \n",
       "Q 41.9375 36.765625 34.90625 35.296875 \n",
       "L 34.90625 35.109375 \n",
       "Q 42.625 34.28125 46.921875 29.9375 \n",
       "Q 51.21875 25.59375 51.21875 19 \n",
       "z\n",
       "\" id=\"LiberationSans-51\"/>\n",
       "       </defs>\n",
       "       <use xlink:href=\"#LiberationSans-51\"/>\n",
       "       <use x=\"55.615234\" xlink:href=\"#LiberationSans-48\"/>\n",
       "      </g>\n",
       "     </g>\n",
       "    </g>\n",
       "    <g id=\"xtick_5\">\n",
       "     <g id=\"line2d_9\">\n",
       "      <path clip-path=\"url(#pfaaf1603b9)\" d=\"M 382.45387 306.18 \n",
       "L 382.45387 7.2 \n",
       "\" style=\"fill:none;stroke:#ffffff;stroke-linecap:round;\"/>\n",
       "     </g>\n",
       "     <g id=\"line2d_10\"/>\n",
       "     <g id=\"text_5\">\n",
       "      <!-- 40 -->\n",
       "      <g style=\"fill:#262626;\" transform=\"translate(376.892933 320.426875)scale(0.1 -0.1)\">\n",
       "       <defs>\n",
       "        <path d=\"M 43.015625 15.578125 \n",
       "L 43.015625 0 \n",
       "L 34.71875 0 \n",
       "L 34.71875 15.578125 \n",
       "L 2.296875 15.578125 \n",
       "L 2.296875 22.40625 \n",
       "L 33.796875 68.796875 \n",
       "L 43.015625 68.796875 \n",
       "L 43.015625 22.515625 \n",
       "L 52.6875 22.515625 \n",
       "L 52.6875 15.578125 \n",
       "z\n",
       "M 34.71875 58.890625 \n",
       "Q 34.625 58.59375 33.34375 56.296875 \n",
       "Q 32.078125 54 31.453125 53.078125 \n",
       "L 13.8125 27.09375 \n",
       "L 11.1875 23.484375 \n",
       "L 10.40625 22.515625 \n",
       "L 34.71875 22.515625 \n",
       "z\n",
       "\" id=\"LiberationSans-52\"/>\n",
       "       </defs>\n",
       "       <use xlink:href=\"#LiberationSans-52\"/>\n",
       "       <use x=\"55.615234\" xlink:href=\"#LiberationSans-48\"/>\n",
       "      </g>\n",
       "     </g>\n",
       "    </g>\n",
       "    <g id=\"xtick_6\">\n",
       "     <g id=\"line2d_11\">\n",
       "      <path clip-path=\"url(#pfaaf1603b9)\" d=\"M 465.273907 306.18 \n",
       "L 465.273907 7.2 \n",
       "\" style=\"fill:none;stroke:#ffffff;stroke-linecap:round;\"/>\n",
       "     </g>\n",
       "     <g id=\"line2d_12\"/>\n",
       "     <g id=\"text_6\">\n",
       "      <!-- 50 -->\n",
       "      <g style=\"fill:#262626;\" transform=\"translate(459.71297 320.426875)scale(0.1 -0.1)\">\n",
       "       <defs>\n",
       "        <path d=\"M 51.421875 22.40625 \n",
       "Q 51.421875 11.53125 44.953125 5.265625 \n",
       "Q 38.484375 -0.984375 27 -0.984375 \n",
       "Q 17.390625 -0.984375 11.46875 3.21875 \n",
       "Q 5.5625 7.421875 4 15.375 \n",
       "L 12.890625 16.40625 \n",
       "Q 15.671875 6.203125 27.203125 6.203125 \n",
       "Q 34.28125 6.203125 38.28125 10.46875 \n",
       "Q 42.28125 14.75 42.28125 22.21875 \n",
       "Q 42.28125 28.71875 38.25 32.71875 \n",
       "Q 34.234375 36.71875 27.390625 36.71875 \n",
       "Q 23.828125 36.71875 20.75 35.59375 \n",
       "Q 17.671875 34.46875 14.59375 31.78125 \n",
       "L 6 31.78125 \n",
       "L 8.296875 68.796875 \n",
       "L 47.40625 68.796875 \n",
       "L 47.40625 61.328125 \n",
       "L 16.3125 61.328125 \n",
       "L 14.984375 39.5 \n",
       "Q 20.703125 43.890625 29.203125 43.890625 \n",
       "Q 39.359375 43.890625 45.390625 37.9375 \n",
       "Q 51.421875 31.984375 51.421875 22.40625 \n",
       "z\n",
       "\" id=\"LiberationSans-53\"/>\n",
       "       </defs>\n",
       "       <use xlink:href=\"#LiberationSans-53\"/>\n",
       "       <use x=\"55.615234\" xlink:href=\"#LiberationSans-48\"/>\n",
       "      </g>\n",
       "     </g>\n",
       "    </g>\n",
       "   </g>\n",
       "   <g id=\"matplotlib.axis_2\">\n",
       "    <g id=\"ytick_1\">\n",
       "     <g id=\"line2d_13\">\n",
       "      <path clip-path=\"url(#pfaaf1603b9)\" d=\"M 30.882812 265.385668 \n",
       "L 477.282812 265.385668 \n",
       "\" style=\"fill:none;stroke:#ffffff;stroke-linecap:round;\"/>\n",
       "     </g>\n",
       "     <g id=\"line2d_14\"/>\n",
       "     <g id=\"text_7\">\n",
       "      <!-- 200 -->\n",
       "      <g style=\"fill:#262626;\" transform=\"translate(7.2 269.009105)scale(0.1 -0.1)\">\n",
       "       <use xlink:href=\"#LiberationSans-50\"/>\n",
       "       <use x=\"55.615234\" xlink:href=\"#LiberationSans-48\"/>\n",
       "       <use x=\"111.230469\" xlink:href=\"#LiberationSans-48\"/>\n",
       "      </g>\n",
       "     </g>\n",
       "    </g>\n",
       "    <g id=\"ytick_2\">\n",
       "     <g id=\"line2d_15\">\n",
       "      <path clip-path=\"url(#pfaaf1603b9)\" d=\"M 30.882812 211.905393 \n",
       "L 477.282812 211.905393 \n",
       "\" style=\"fill:none;stroke:#ffffff;stroke-linecap:round;\"/>\n",
       "     </g>\n",
       "     <g id=\"line2d_16\"/>\n",
       "     <g id=\"text_8\">\n",
       "      <!-- 300 -->\n",
       "      <g style=\"fill:#262626;\" transform=\"translate(7.2 215.52883)scale(0.1 -0.1)\">\n",
       "       <use xlink:href=\"#LiberationSans-51\"/>\n",
       "       <use x=\"55.615234\" xlink:href=\"#LiberationSans-48\"/>\n",
       "       <use x=\"111.230469\" xlink:href=\"#LiberationSans-48\"/>\n",
       "      </g>\n",
       "     </g>\n",
       "    </g>\n",
       "    <g id=\"ytick_3\">\n",
       "     <g id=\"line2d_17\">\n",
       "      <path clip-path=\"url(#pfaaf1603b9)\" d=\"M 30.882812 158.425118 \n",
       "L 477.282812 158.425118 \n",
       "\" style=\"fill:none;stroke:#ffffff;stroke-linecap:round;\"/>\n",
       "     </g>\n",
       "     <g id=\"line2d_18\"/>\n",
       "     <g id=\"text_9\">\n",
       "      <!-- 400 -->\n",
       "      <g style=\"fill:#262626;\" transform=\"translate(7.2 162.048556)scale(0.1 -0.1)\">\n",
       "       <use xlink:href=\"#LiberationSans-52\"/>\n",
       "       <use x=\"55.615234\" xlink:href=\"#LiberationSans-48\"/>\n",
       "       <use x=\"111.230469\" xlink:href=\"#LiberationSans-48\"/>\n",
       "      </g>\n",
       "     </g>\n",
       "    </g>\n",
       "    <g id=\"ytick_4\">\n",
       "     <g id=\"line2d_19\">\n",
       "      <path clip-path=\"url(#pfaaf1603b9)\" d=\"M 30.882812 104.944844 \n",
       "L 477.282812 104.944844 \n",
       "\" style=\"fill:none;stroke:#ffffff;stroke-linecap:round;\"/>\n",
       "     </g>\n",
       "     <g id=\"line2d_20\"/>\n",
       "     <g id=\"text_10\">\n",
       "      <!-- 500 -->\n",
       "      <g style=\"fill:#262626;\" transform=\"translate(7.2 108.568281)scale(0.1 -0.1)\">\n",
       "       <use xlink:href=\"#LiberationSans-53\"/>\n",
       "       <use x=\"55.615234\" xlink:href=\"#LiberationSans-48\"/>\n",
       "       <use x=\"111.230469\" xlink:href=\"#LiberationSans-48\"/>\n",
       "      </g>\n",
       "     </g>\n",
       "    </g>\n",
       "    <g id=\"ytick_5\">\n",
       "     <g id=\"line2d_21\">\n",
       "      <path clip-path=\"url(#pfaaf1603b9)\" d=\"M 30.882812 51.464569 \n",
       "L 477.282812 51.464569 \n",
       "\" style=\"fill:none;stroke:#ffffff;stroke-linecap:round;\"/>\n",
       "     </g>\n",
       "     <g id=\"line2d_22\"/>\n",
       "     <g id=\"text_11\">\n",
       "      <!-- 600 -->\n",
       "      <g style=\"fill:#262626;\" transform=\"translate(7.2 55.088007)scale(0.1 -0.1)\">\n",
       "       <defs>\n",
       "        <path d=\"M 51.21875 22.515625 \n",
       "Q 51.21875 11.625 45.3125 5.3125 \n",
       "Q 39.40625 -0.984375 29 -0.984375 \n",
       "Q 17.390625 -0.984375 11.234375 7.65625 \n",
       "Q 5.078125 16.3125 5.078125 32.8125 \n",
       "Q 5.078125 50.6875 11.46875 60.25 \n",
       "Q 17.875 69.828125 29.6875 69.828125 \n",
       "Q 45.265625 69.828125 49.3125 55.8125 \n",
       "L 40.921875 54.296875 \n",
       "Q 38.328125 62.703125 29.59375 62.703125 \n",
       "Q 22.078125 62.703125 17.9375 55.6875 \n",
       "Q 13.8125 48.6875 13.8125 35.40625 \n",
       "Q 16.21875 39.84375 20.5625 42.15625 \n",
       "Q 24.90625 44.484375 30.515625 44.484375 \n",
       "Q 40.046875 44.484375 45.625 38.515625 \n",
       "Q 51.21875 32.5625 51.21875 22.515625 \n",
       "z\n",
       "M 42.28125 22.125 \n",
       "Q 42.28125 29.59375 38.625 33.640625 \n",
       "Q 34.96875 37.703125 28.421875 37.703125 \n",
       "Q 22.265625 37.703125 18.484375 34.109375 \n",
       "Q 14.703125 30.515625 14.703125 24.21875 \n",
       "Q 14.703125 16.265625 18.625 11.1875 \n",
       "Q 22.5625 6.109375 28.71875 6.109375 \n",
       "Q 35.0625 6.109375 38.671875 10.375 \n",
       "Q 42.28125 14.65625 42.28125 22.125 \n",
       "z\n",
       "\" id=\"LiberationSans-54\"/>\n",
       "       </defs>\n",
       "       <use xlink:href=\"#LiberationSans-54\"/>\n",
       "       <use x=\"55.615234\" xlink:href=\"#LiberationSans-48\"/>\n",
       "       <use x=\"111.230469\" xlink:href=\"#LiberationSans-48\"/>\n",
       "      </g>\n",
       "     </g>\n",
       "    </g>\n",
       "   </g>\n",
       "   <g id=\"line2d_23\">\n",
       "    <path clip-path=\"url(#pfaaf1603b9)\" d=\"M 51.173722 20.79 \n",
       "L 59.455725 154.380738 \n",
       "L 67.737729 203.463976 \n",
       "L 76.019733 224.284101 \n",
       "L 84.301736 235.390347 \n",
       "L 92.58374 242.737435 \n",
       "L 100.865744 248.209631 \n",
       "L 109.147748 252.606732 \n",
       "L 117.429751 256.344778 \n",
       "L 125.711755 259.642846 \n",
       "L 133.993759 262.612242 \n",
       "L 142.275762 265.304459 \n",
       "L 150.557766 267.749599 \n",
       "L 158.83977 269.978382 \n",
       "L 167.121774 272.014729 \n",
       "L 175.403777 273.87444 \n",
       "L 183.685781 275.573386 \n",
       "L 191.967785 277.130026 \n",
       "L 200.249788 278.562518 \n",
       "L 208.531792 279.88543 \n",
       "L 216.813796 281.108829 \n",
       "L 225.0958 282.239221 \n",
       "L 233.377803 283.28103 \n",
       "L 241.659807 284.237868 \n",
       "L 249.941811 285.113356 \n",
       "L 258.223814 285.911492 \n",
       "L 266.505818 286.636672 \n",
       "L 274.787822 287.293509 \n",
       "L 283.069825 287.88661 \n",
       "L 291.351829 288.420474 \n",
       "L 299.633833 288.899548 \n",
       "L 307.915837 289.328342 \n",
       "L 316.19784 289.711477 \n",
       "L 324.479844 290.05361 \n",
       "L 332.761848 290.359259 \n",
       "L 341.043851 290.632657 \n",
       "L 349.325855 290.877649 \n",
       "L 357.607859 291.097669 \n",
       "L 365.889863 291.295752 \n",
       "L 374.171866 291.474557 \n",
       "L 382.45387 291.636406 \n",
       "L 390.735874 291.783322 \n",
       "L 399.017877 291.917059 \n",
       "L 407.299881 292.039141 \n",
       "L 415.581885 292.150892 \n",
       "L 423.863889 292.253458 \n",
       "L 432.145892 292.347839 \n",
       "L 440.427896 292.434903 \n",
       "L 448.7099 292.515405 \n",
       "L 456.991903 292.59 \n",
       "\" style=\"fill:none;stroke:#87ceeb;stroke-linecap:round;stroke-width:1.75;\"/>\n",
       "   </g>\n",
       "   <g id=\"patch_3\">\n",
       "    <path d=\"M 30.882812 306.18 \n",
       "L 30.882812 7.2 \n",
       "\" style=\"fill:none;\"/>\n",
       "   </g>\n",
       "   <g id=\"patch_4\">\n",
       "    <path d=\"M 477.282812 306.18 \n",
       "L 477.282812 7.2 \n",
       "\" style=\"fill:none;\"/>\n",
       "   </g>\n",
       "   <g id=\"patch_5\">\n",
       "    <path d=\"M 30.882812 306.18 \n",
       "L 477.282812 306.18 \n",
       "\" style=\"fill:none;\"/>\n",
       "   </g>\n",
       "   <g id=\"patch_6\">\n",
       "    <path d=\"M 30.882812 7.2 \n",
       "L 477.282812 7.2 \n",
       "\" style=\"fill:none;\"/>\n",
       "   </g>\n",
       "  </g>\n",
       " </g>\n",
       " <defs>\n",
       "  <clipPath id=\"pfaaf1603b9\">\n",
       "   <rect height=\"298.98\" width=\"446.4\" x=\"30.882812\" y=\"7.2\"/>\n",
       "  </clipPath>\n",
       " </defs>\n",
       "</svg>\n"
      ],
      "text/plain": [
       "<Figure size 576x396 with 1 Axes>"
      ]
     },
     "metadata": {},
     "output_type": "display_data"
    }
   ],
   "source": [
    "n_iter = 50\n",
    "learning_rate = 0.05\n",
    "\n",
    "history = [backward(model, X, y, learning_rate) for _ in range(n_iter)]\n",
    "\n",
    "plt.plot(range(len(history)), history, color=\"skyblue\")\n",
    "plt.show()"
   ]
  },
  {
   "cell_type": "markdown",
   "metadata": {},
   "source": [
    "We can perform sanity to see which token our model predicts given the word “learning.”"
   ]
  },
  {
   "cell_type": "code",
   "execution_count": 52,
   "metadata": {},
   "outputs": [
    {
     "name": "stdout",
     "output_type": "stream",
     "text": [
      "machine\n",
      "algorithms\n",
      "intelligence\n",
      "the\n",
      "is\n",
      "it\n",
      "learning\n",
      "automatically\n",
      "study\n",
      "computer\n",
      "as\n",
      "of\n",
      "artificial\n",
      "a\n",
      "through\n",
      "that\n",
      "improve\n",
      "experience\n",
      "seen\n",
      "subset\n"
     ]
    }
   ],
   "source": [
    "learning = one_hot_encode(word_to_idex[\"learning\"], len(word_to_idex))\n",
    "result = forward(model, [learning], return_cache=False)[0]\n",
    "\n",
    "for word in (idex_to_word[id] for id in np.argsort(result)[::-1]):\n",
    "    print(word)\n"
   ]
  },
  {
   "cell_type": "code",
   "execution_count": 53,
   "metadata": {},
   "outputs": [
    {
     "data": {
      "text/plain": [
       "[0, 0, 0, 0, 0, 0, 0, 0, 0, 0, 0, 0, 0, 0, 1, 0, 0, 0, 0, 0]"
      ]
     },
     "execution_count": 53,
     "metadata": {},
     "output_type": "execute_result"
    }
   ],
   "source": [
    "learning"
   ]
  },
  {
   "cell_type": "code",
   "execution_count": 54,
   "metadata": {},
   "outputs": [
    {
     "data": {
      "text/plain": [
       "20"
      ]
     },
     "execution_count": 54,
     "metadata": {},
     "output_type": "execute_result"
    }
   ],
   "source": [
    "len(learning)"
   ]
  }
 ],
 "metadata": {
  "kernelspec": {
   "display_name": "Python 3",
   "language": "python",
   "name": "python3"
  },
  "language_info": {
   "codemirror_mode": {
    "name": "ipython",
    "version": 3
   },
   "file_extension": ".py",
   "mimetype": "text/x-python",
   "name": "python",
   "nbconvert_exporter": "python",
   "pygments_lexer": "ipython3",
   "version": "3.8.5"
  }
 },
 "nbformat": 4,
 "nbformat_minor": 4
}
