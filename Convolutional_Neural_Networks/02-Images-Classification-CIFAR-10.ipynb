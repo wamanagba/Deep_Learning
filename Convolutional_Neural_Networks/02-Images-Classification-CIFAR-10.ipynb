{
 "cells": [
  {
   "cell_type": "markdown",
   "metadata": {
    "colab_type": "text",
    "id": "Pkyc6ghcHpJN"
   },
   "source": [
    "# CNN sur CIFAR-10 (Classes multiples)\n",
    "\n",
    "Voyons un autre exemple d'utilisation de Keras et de construction d'un CNN. Nous utiliserons un autre ensemble de données célèbre, l'ensemble de données CIFAR-10 qui comprend 10 types d'images différents."
   ]
  },
  {
   "cell_type": "code",
   "execution_count": null,
   "metadata": {
    "colab": {},
    "colab_type": "code",
    "id": "5xywpXMPHhK-"
   },
   "outputs": [],
   "source": [
    "import pandas as pd\n",
    "import numpy as np"
   ]
  },
  {
   "cell_type": "markdown",
   "metadata": {
    "colab_type": "text",
    "id": "0y8QMTsRHzFi"
   },
   "source": [
    "-----"
   ]
  },
  {
   "cell_type": "markdown",
   "metadata": {
    "colab_type": "text",
    "id": "AT8BBNV0H4Xj"
   },
   "source": [
    "## Les Données\n",
    "\n",
    "CIFAR-10 est un ensemble de 50 000 images d'entraînement en couleur 32x32, réparties en 10 catégories, et 10 000 images de test."
   ]
  },
  {
   "cell_type": "code",
   "execution_count": null,
   "metadata": {
    "colab": {},
    "colab_type": "code",
    "id": "Qe3GHbr0HxSk"
   },
   "outputs": [],
   "source": [
    "from tensorflow.keras.datasets import cifar10\n",
    "\n",
    "(x_train, y_train), (x_test, y_test) = cifar10.load_data()"
   ]
  },
  {
   "cell_type": "code",
   "execution_count": null,
   "metadata": {
    "colab": {
     "base_uri": "https://localhost:8080/",
     "height": 34
    },
    "colab_type": "code",
    "executionInfo": {
     "elapsed": 4717,
     "status": "ok",
     "timestamp": 1598279637792,
     "user": {
      "displayName": "Rod Paris",
      "photoUrl": "",
      "userId": "10535238717210992784"
     },
     "user_tz": -120
    },
    "id": "kp0WGKtuH9xJ",
    "outputId": "fc8e79ae-01b9-4e2e-ae0a-544d70405235"
   },
   "outputs": [
    {
     "data": {
      "text/plain": [
       "(50000, 32, 32, 3)"
      ]
     },
     "execution_count": 3,
     "metadata": {
      "tags": []
     },
     "output_type": "execute_result"
    }
   ],
   "source": [
    "x_train.shape"
   ]
  },
  {
   "cell_type": "code",
   "execution_count": null,
   "metadata": {
    "colab": {
     "base_uri": "https://localhost:8080/",
     "height": 34
    },
    "colab_type": "code",
    "executionInfo": {
     "elapsed": 4702,
     "status": "ok",
     "timestamp": 1598279637793,
     "user": {
      "displayName": "Rod Paris",
      "photoUrl": "",
      "userId": "10535238717210992784"
     },
     "user_tz": -120
    },
    "id": "UaDb6Jb9H_FK",
    "outputId": "d450f5ab-5a85-4c2b-e368-c48807ae427f"
   },
   "outputs": [
    {
     "data": {
      "text/plain": [
       "(32, 32, 3)"
      ]
     },
     "execution_count": 4,
     "metadata": {
      "tags": []
     },
     "output_type": "execute_result"
    }
   ],
   "source": [
    "x_train[0].shape"
   ]
  },
  {
   "cell_type": "code",
   "execution_count": null,
   "metadata": {
    "colab": {},
    "colab_type": "code",
    "id": "uoUz0MKuIAgC"
   },
   "outputs": [],
   "source": [
    "import matplotlib.pyplot as plt"
   ]
  },
  {
   "cell_type": "code",
   "execution_count": null,
   "metadata": {
    "colab": {
     "base_uri": "https://localhost:8080/",
     "height": 283
    },
    "colab_type": "code",
    "executionInfo": {
     "elapsed": 4678,
     "status": "ok",
     "timestamp": 1598279637795,
     "user": {
      "displayName": "Rod Paris",
      "photoUrl": "",
      "userId": "10535238717210992784"
     },
     "user_tz": -120
    },
    "id": "tXr3rwzuIB9Z",
    "outputId": "ba88b4f1-3dad-49d6-847b-10780ffae223"
   },
   "outputs": [
    {
     "data": {
      "text/plain": [
       "<matplotlib.image.AxesImage at 0x7efef9051978>"
      ]
     },
     "execution_count": 6,
     "metadata": {
      "tags": []
     },
     "output_type": "execute_result"
    },
    {
     "data": {
      "image/png": "[encoded data removed]",
      "text/plain": [
       "<Figure size 432x288 with 1 Axes>"
      ]
     },
     "metadata": {
      "needs_background": "light",
      "tags": []
     },
     "output_type": "display_data"
    }
   ],
   "source": [
    "# Grenouille\n",
    "plt.imshow(x_train[0])"
   ]
  },
  {
   "cell_type": "code",
   "execution_count": null,
   "metadata": {
    "colab": {
     "base_uri": "https://localhost:8080/",
     "height": 283
    },
    "colab_type": "code",
    "executionInfo": {
     "elapsed": 4660,
     "status": "ok",
     "timestamp": 1598279637795,
     "user": {
      "displayName": "Rod Paris",
      "photoUrl": "",
      "userId": "10535238717210992784"
     },
     "user_tz": -120
    },
    "id": "Zt0J-wlQIGkt",
    "outputId": "c9e3d0b5-6d4c-4c4b-e32b-356e58b2fc8c"
   },
   "outputs": [
    {
     "data": {
      "text/plain": [
       "<matplotlib.image.AxesImage at 0x7efef8ba6710>"
      ]
     },
     "execution_count": 7,
     "metadata": {
      "tags": []
     },
     "output_type": "execute_result"
    },
    {
     "data": {
      "image/png": "[encoded data removed]",
      "text/plain": [
       "<Figure size 432x288 with 1 Axes>"
      ]
     },
     "metadata": {
      "needs_background": "light",
      "tags": []
     },
     "output_type": "display_data"
    }
   ],
   "source": [
    "# Cheval\n",
    "plt.imshow(x_train[12])"
   ]
  },
  {
   "cell_type": "markdown",
   "metadata": {
    "colab_type": "text",
    "id": "wXYf_JCuILCt"
   },
   "source": [
    "## Pré-traitement des Données"
   ]
  },
  {
   "cell_type": "code",
   "execution_count": null,
   "metadata": {
    "colab": {
     "base_uri": "https://localhost:8080/",
     "height": 850
    },
    "colab_type": "code",
    "executionInfo": {
     "elapsed": 4646,
     "status": "ok",
     "timestamp": 1598279637796,
     "user": {
      "displayName": "Rod Paris",
      "photoUrl": "",
      "userId": "10535238717210992784"
     },
     "user_tz": -120
    },
    "id": "9w79Wej_IJEq",
    "outputId": "c96277d9-5235-430b-b8db-93b5fe4d92dd"
   },
   "outputs": [
    {
     "data": {
      "text/plain": [
       "array([[[ 59,  62,  63],\n",
       "        [ 43,  46,  45],\n",
       "        [ 50,  48,  43],\n",
       "        ...,\n",
       "        [158, 132, 108],\n",
       "        [152, 125, 102],\n",
       "        [148, 124, 103]],\n",
       "\n",
       "       [[ 16,  20,  20],\n",
       "        [  0,   0,   0],\n",
       "        [ 18,   8,   0],\n",
       "        ...,\n",
       "        [123,  88,  55],\n",
       "        [119,  83,  50],\n",
       "        [122,  87,  57]],\n",
       "\n",
       "       [[ 25,  24,  21],\n",
       "        [ 16,   7,   0],\n",
       "        [ 49,  27,   8],\n",
       "        ...,\n",
       "        [118,  84,  50],\n",
       "        [120,  84,  50],\n",
       "        [109,  73,  42]],\n",
       "\n",
       "       ...,\n",
       "\n",
       "       [[208, 170,  96],\n",
       "        [201, 153,  34],\n",
       "        [198, 161,  26],\n",
       "        ...,\n",
       "        [160, 133,  70],\n",
       "        [ 56,  31,   7],\n",
       "        [ 53,  34,  20]],\n",
       "\n",
       "       [[180, 139,  96],\n",
       "        [173, 123,  42],\n",
       "        [186, 144,  30],\n",
       "        ...,\n",
       "        [184, 148,  94],\n",
       "        [ 97,  62,  34],\n",
       "        [ 83,  53,  34]],\n",
       "\n",
       "       [[177, 144, 116],\n",
       "        [168, 129,  94],\n",
       "        [179, 142,  87],\n",
       "        ...,\n",
       "        [216, 184, 140],\n",
       "        [151, 118,  84],\n",
       "        [123,  92,  72]]], dtype=uint8)"
      ]
     },
     "execution_count": 8,
     "metadata": {
      "tags": []
     },
     "output_type": "execute_result"
    }
   ],
   "source": [
    "x_train[0]"
   ]
  },
  {
   "cell_type": "code",
   "execution_count": null,
   "metadata": {
    "colab": {
     "base_uri": "https://localhost:8080/",
     "height": 34
    },
    "colab_type": "code",
    "executionInfo": {
     "elapsed": 4633,
     "status": "ok",
     "timestamp": 1598279637797,
     "user": {
      "displayName": "Rod Paris",
      "photoUrl": "",
      "userId": "10535238717210992784"
     },
     "user_tz": -120
    },
    "id": "kcK-kmhwIQ8G",
    "outputId": "9b85be1f-db55-41c2-9512-297ff462de80"
   },
   "outputs": [
    {
     "data": {
      "text/plain": [
       "(32, 32, 3)"
      ]
     },
     "execution_count": 9,
     "metadata": {
      "tags": []
     },
     "output_type": "execute_result"
    }
   ],
   "source": [
    "x_train[0].shape"
   ]
  },
  {
   "cell_type": "code",
   "execution_count": null,
   "metadata": {
    "colab": {
     "base_uri": "https://localhost:8080/",
     "height": 34
    },
    "colab_type": "code",
    "executionInfo": {
     "elapsed": 5215,
     "status": "ok",
     "timestamp": 1598279638395,
     "user": {
      "displayName": "Rod Paris",
      "photoUrl": "",
      "userId": "10535238717210992784"
     },
     "user_tz": -120
    },
    "id": "rSIsXJK3ISoZ",
    "outputId": "716300d0-9fd9-4a67-e16b-f41b639eb311"
   },
   "outputs": [
    {
     "data": {
      "text/plain": [
       "255"
      ]
     },
     "execution_count": 10,
     "metadata": {
      "tags": []
     },
     "output_type": "execute_result"
    }
   ],
   "source": [
    "x_train.max()"
   ]
  },
  {
   "cell_type": "code",
   "execution_count": null,
   "metadata": {
    "colab": {},
    "colab_type": "code",
    "id": "C6Fmpg0nIT7X"
   },
   "outputs": [],
   "source": [
    "x_train = x_train/225"
   ]
  },
  {
   "cell_type": "code",
   "execution_count": null,
   "metadata": {
    "colab": {},
    "colab_type": "code",
    "id": "EP_x3egZIVOh"
   },
   "outputs": [],
   "source": [
    "x_test = x_test/255"
   ]
  },
  {
   "cell_type": "code",
   "execution_count": null,
   "metadata": {
    "colab": {
     "base_uri": "https://localhost:8080/",
     "height": 34
    },
    "colab_type": "code",
    "executionInfo": {
     "elapsed": 5192,
     "status": "ok",
     "timestamp": 1598279638397,
     "user": {
      "displayName": "Rod Paris",
      "photoUrl": "",
      "userId": "10535238717210992784"
     },
     "user_tz": -120
    },
    "id": "lMYa0W2bIWad",
    "outputId": "0c50547a-38f4-4cac-f180-e431f76ca1f3"
   },
   "outputs": [
    {
     "data": {
      "text/plain": [
       "(50000, 32, 32, 3)"
      ]
     },
     "execution_count": 13,
     "metadata": {
      "tags": []
     },
     "output_type": "execute_result"
    }
   ],
   "source": [
    "x_train.shape"
   ]
  },
  {
   "cell_type": "code",
   "execution_count": null,
   "metadata": {
    "colab": {
     "base_uri": "https://localhost:8080/",
     "height": 34
    },
    "colab_type": "code",
    "executionInfo": {
     "elapsed": 5181,
     "status": "ok",
     "timestamp": 1598279638398,
     "user": {
      "displayName": "Rod Paris",
      "photoUrl": "",
      "userId": "10535238717210992784"
     },
     "user_tz": -120
    },
    "id": "VWmaSSgmIXu2",
    "outputId": "665ec437-22cd-4eff-99f6-132301395c81"
   },
   "outputs": [
    {
     "data": {
      "text/plain": [
       "(10000, 32, 32, 3)"
      ]
     },
     "execution_count": 14,
     "metadata": {
      "tags": []
     },
     "output_type": "execute_result"
    }
   ],
   "source": [
    "x_test.shape"
   ]
  },
  {
   "cell_type": "markdown",
   "metadata": {
    "colab_type": "text",
    "id": "iiW2VnipIbxe"
   },
   "source": [
    "## Labels"
   ]
  },
  {
   "cell_type": "code",
   "execution_count": null,
   "metadata": {
    "colab": {},
    "colab_type": "code",
    "id": "wg9pvoGiIZBS"
   },
   "outputs": [],
   "source": [
    "from tensorflow.keras.utils import to_categorical"
   ]
  },
  {
   "cell_type": "code",
   "execution_count": null,
   "metadata": {
    "colab": {
     "base_uri": "https://localhost:8080/",
     "height": 34
    },
    "colab_type": "code",
    "executionInfo": {
     "elapsed": 5164,
     "status": "ok",
     "timestamp": 1598279638400,
     "user": {
      "displayName": "Rod Paris",
      "photoUrl": "",
      "userId": "10535238717210992784"
     },
     "user_tz": -120
    },
    "id": "MjCObSVsIeLO",
    "outputId": "782511cc-417e-4ac2-d1b4-80b6d6e713e1"
   },
   "outputs": [
    {
     "data": {
      "text/plain": [
       "(50000, 1)"
      ]
     },
     "execution_count": 16,
     "metadata": {
      "tags": []
     },
     "output_type": "execute_result"
    }
   ],
   "source": [
    "y_train.shape"
   ]
  },
  {
   "cell_type": "code",
   "execution_count": null,
   "metadata": {
    "colab": {
     "base_uri": "https://localhost:8080/",
     "height": 34
    },
    "colab_type": "code",
    "executionInfo": {
     "elapsed": 5151,
     "status": "ok",
     "timestamp": 1598279638400,
     "user": {
      "displayName": "Rod Paris",
      "photoUrl": "",
      "userId": "10535238717210992784"
     },
     "user_tz": -120
    },
    "id": "9nSkfcQVIhJ9",
    "outputId": "d6bfaed7-089b-4189-e2dd-a1a9ae6e26c6"
   },
   "outputs": [
    {
     "data": {
      "text/plain": [
       "array([6], dtype=uint8)"
      ]
     },
     "execution_count": 17,
     "metadata": {
      "tags": []
     },
     "output_type": "execute_result"
    }
   ],
   "source": [
    "y_train[0]"
   ]
  },
  {
   "cell_type": "code",
   "execution_count": null,
   "metadata": {
    "colab": {},
    "colab_type": "code",
    "id": "4hA3mIsfIiij"
   },
   "outputs": [],
   "source": [
    "y_cat_train = to_categorical(y_train,10)"
   ]
  },
  {
   "cell_type": "code",
   "execution_count": null,
   "metadata": {
    "colab": {
     "base_uri": "https://localhost:8080/",
     "height": 34
    },
    "colab_type": "code",
    "executionInfo": {
     "elapsed": 5523,
     "status": "ok",
     "timestamp": 1598279638797,
     "user": {
      "displayName": "Rod Paris",
      "photoUrl": "",
      "userId": "10535238717210992784"
     },
     "user_tz": -120
    },
    "id": "7pk1pE7JIj-I",
    "outputId": "a350dcfc-ab88-4889-fcc1-13d119d1f42a"
   },
   "outputs": [
    {
     "data": {
      "text/plain": [
       "(50000, 10)"
      ]
     },
     "execution_count": 19,
     "metadata": {
      "tags": []
     },
     "output_type": "execute_result"
    }
   ],
   "source": [
    "y_cat_train.shape"
   ]
  },
  {
   "cell_type": "code",
   "execution_count": null,
   "metadata": {
    "colab": {
     "base_uri": "https://localhost:8080/",
     "height": 34
    },
    "colab_type": "code",
    "executionInfo": {
     "elapsed": 5508,
     "status": "ok",
     "timestamp": 1598279638798,
     "user": {
      "displayName": "Rod Paris",
      "photoUrl": "",
      "userId": "10535238717210992784"
     },
     "user_tz": -120
    },
    "id": "rCLol_d1IlWY",
    "outputId": "4688bb8e-283b-4f3d-b2a2-ebfdc9a1bd2c"
   },
   "outputs": [
    {
     "data": {
      "text/plain": [
       "array([0., 0., 0., 0., 0., 0., 1., 0., 0., 0.], dtype=float32)"
      ]
     },
     "execution_count": 20,
     "metadata": {
      "tags": []
     },
     "output_type": "execute_result"
    }
   ],
   "source": [
    "y_cat_train[0]"
   ]
  },
  {
   "cell_type": "code",
   "execution_count": null,
   "metadata": {
    "colab": {},
    "colab_type": "code",
    "id": "2k9H8MRvImqa"
   },
   "outputs": [],
   "source": [
    "y_cat_test = to_categorical(y_test,10)"
   ]
  },
  {
   "cell_type": "markdown",
   "metadata": {
    "colab_type": "text",
    "id": "t1n8nw89IslR"
   },
   "source": [
    "----------\n",
    "## Construction du Modèle"
   ]
  },
  {
   "cell_type": "code",
   "execution_count": null,
   "metadata": {
    "colab": {},
    "colab_type": "code",
    "id": "zSsI4vAlIoAM"
   },
   "outputs": [],
   "source": [
    "from tensorflow.keras.models import Sequential\n",
    "from tensorflow.keras.layers import Dense, Conv2D, MaxPool2D, Flatten"
   ]
  },
  {
   "cell_type": "code",
   "execution_count": null,
   "metadata": {
    "colab": {},
    "colab_type": "code",
    "id": "hjAj8YlEIxYT"
   },
   "outputs": [],
   "source": [
    "model = Sequential()\n",
    "\n",
    "## Premier set de couches\n",
    "\n",
    "# Couche convolutive\n",
    "model.add(Conv2D(filters=32, kernel_size=(4,4),input_shape=(32, 32, 3), activation='relu',))\n",
    "# Couche de Pooling\n",
    "model.add(MaxPool2D(pool_size=(2, 2)))\n",
    "\n",
    "## Second set de couches\n",
    "\n",
    "# Couche convolutive\n",
    "model.add(Conv2D(filters=32, kernel_size=(4,4),input_shape=(32, 32, 3), activation='relu',))\n",
    "# Couche de Pooling\n",
    "model.add(MaxPool2D(pool_size=(2, 2)))\n",
    "\n",
    "# Images applaties de 28 par 28 à 764 avant la couche finale\n",
    "model.add(Flatten())\n",
    "\n",
    "# 256 neurones dans la couche cachée dense (Vous pouvez changer ce nombre de neurones)\n",
    "model.add(Dense(256, activation='relu'))\n",
    "\n",
    "# La dernière est le classificateur, donc 10 classes possibles\n",
    "model.add(Dense(10, activation='softmax'))\n",
    "\n",
    "\n",
    "model.compile(loss='categorical_crossentropy',\n",
    "              optimizer='rmsprop',\n",
    "              metrics=['accuracy'])"
   ]
  },
  {
   "cell_type": "code",
   "execution_count": null,
   "metadata": {
    "colab": {
     "base_uri": "https://localhost:8080/",
     "height": 391
    },
    "colab_type": "code",
    "executionInfo": {
     "elapsed": 5456,
     "status": "ok",
     "timestamp": 1598279638800,
     "user": {
      "displayName": "Rod Paris",
      "photoUrl": "",
      "userId": "10535238717210992784"
     },
     "user_tz": -120
    },
    "id": "M_126HriJXO1",
    "outputId": "30e36d72-6cec-4cfa-b5cb-1d7a5d847632"
   },
   "outputs": [
    {
     "name": "stdout",
     "output_type": "stream",
     "text": [
      "Model: \"sequential\"\n",
      "_________________________________________________________________\n",
      "Layer (type)                 Output Shape              Param #   \n",
      "=================================================================\n",
      "conv2d (Conv2D)              (None, 29, 29, 32)        1568      \n",
      "_________________________________________________________________\n",
      "max_pooling2d (MaxPooling2D) (None, 14, 14, 32)        0         \n",
      "_________________________________________________________________\n",
      "conv2d_1 (Conv2D)            (None, 11, 11, 32)        16416     \n",
      "_________________________________________________________________\n",
      "max_pooling2d_1 (MaxPooling2 (None, 5, 5, 32)          0         \n",
      "_________________________________________________________________\n",
      "flatten (Flatten)            (None, 800)               0         \n",
      "_________________________________________________________________\n",
      "dense (Dense)                (None, 256)               205056    \n",
      "_________________________________________________________________\n",
      "dense_1 (Dense)              (None, 10)                2570      \n",
      "=================================================================\n",
      "Total params: 225,610\n",
      "Trainable params: 225,610\n",
      "Non-trainable params: 0\n",
      "_________________________________________________________________\n"
     ]
    }
   ],
   "source": [
    "model.summary()"
   ]
  },
  {
   "cell_type": "code",
   "execution_count": null,
   "metadata": {
    "colab": {},
    "colab_type": "code",
    "id": "VCnyVYO3JYqX"
   },
   "outputs": [],
   "source": [
    "from tensorflow.keras.callbacks import EarlyStopping"
   ]
  },
  {
   "cell_type": "code",
   "execution_count": null,
   "metadata": {
    "colab": {},
    "colab_type": "code",
    "id": "YN8J96VpJaRM"
   },
   "outputs": [],
   "source": [
    "early_stop = EarlyStopping(monitor='val_loss',patience=3)"
   ]
  },
  {
   "cell_type": "code",
   "execution_count": null,
   "metadata": {
    "colab": {
     "base_uri": "https://localhost:8080/",
     "height": 394
    },
    "colab_type": "code",
    "executionInfo": {
     "elapsed": 579505,
     "status": "ok",
     "timestamp": 1598280212889,
     "user": {
      "displayName": "Rod Paris",
      "photoUrl": "",
      "userId": "10535238717210992784"
     },
     "user_tz": -120
    },
    "id": "Nl8mIrvbJcDS",
    "outputId": "d9954ba2-37e8-460b-8690-1bf61c49918b"
   },
   "outputs": [
    {
     "name": "stdout",
     "output_type": "stream",
     "text": [
      "Epoch 1/15\n",
      "1563/1563 [==============================] - 58s 37ms/step - loss: 1.5094 - accuracy: 0.4580 - val_loss: 1.3111 - val_accuracy: 0.5299\n",
      "Epoch 2/15\n",
      "1563/1563 [==============================] - 57s 37ms/step - loss: 1.1523 - accuracy: 0.5989 - val_loss: 1.1373 - val_accuracy: 0.6084\n",
      "Epoch 3/15\n",
      "1563/1563 [==============================] - 57s 37ms/step - loss: 1.0037 - accuracy: 0.6530 - val_loss: 1.3609 - val_accuracy: 0.5591\n",
      "Epoch 4/15\n",
      "1563/1563 [==============================] - 57s 37ms/step - loss: 0.9041 - accuracy: 0.6880 - val_loss: 1.0149 - val_accuracy: 0.6510\n",
      "Epoch 5/15\n",
      "1563/1563 [==============================] - 57s 37ms/step - loss: 0.8250 - accuracy: 0.7168 - val_loss: 1.1219 - val_accuracy: 0.6292\n",
      "Epoch 6/15\n",
      "1563/1563 [==============================] - 57s 37ms/step - loss: 0.7633 - accuracy: 0.7387 - val_loss: 0.9568 - val_accuracy: 0.6757\n",
      "Epoch 7/15\n",
      "1563/1563 [==============================] - 57s 37ms/step - loss: 0.7093 - accuracy: 0.7589 - val_loss: 0.9522 - val_accuracy: 0.6847\n",
      "Epoch 8/15\n",
      "1563/1563 [==============================] - 57s 36ms/step - loss: 0.6660 - accuracy: 0.7731 - val_loss: 0.9958 - val_accuracy: 0.6926\n",
      "Epoch 9/15\n",
      "1563/1563 [==============================] - 57s 36ms/step - loss: 0.6228 - accuracy: 0.7894 - val_loss: 1.0875 - val_accuracy: 0.6416\n",
      "Epoch 10/15\n",
      "1563/1563 [==============================] - 57s 36ms/step - loss: 0.5880 - accuracy: 0.8022 - val_loss: 1.0704 - val_accuracy: 0.6968\n"
     ]
    },
    {
     "data": {
      "text/plain": [
       "<tensorflow.python.keras.callbacks.History at 0x7efef2515f98>"
      ]
     },
     "execution_count": 27,
     "metadata": {
      "tags": []
     },
     "output_type": "execute_result"
    }
   ],
   "source": [
    "model.fit(x_train,y_cat_train,epochs=15,validation_data=(x_test,y_cat_test),callbacks=[early_stop])"
   ]
  },
  {
   "cell_type": "code",
   "execution_count": null,
   "metadata": {
    "colab": {},
    "colab_type": "code",
    "id": "si0lW2dqJd0V"
   },
   "outputs": [],
   "source": [
    "model.save('cifar_10epochs.h5')"
   ]
  },
  {
   "cell_type": "code",
   "execution_count": null,
   "metadata": {
    "colab": {},
    "colab_type": "code",
    "id": "VNx55Jl8Jkby"
   },
   "outputs": [],
   "source": [
    "losses = pd.DataFrame(model.history.history)"
   ]
  },
  {
   "cell_type": "code",
   "execution_count": null,
   "metadata": {
    "colab": {
     "base_uri": "https://localhost:8080/"
    },
    "colab_type": "code",
    "executionInfo": {
     "elapsed": 579484,
     "status": "ok",
     "timestamp": 1598280212895,
     "user": {
      "displayName": "Rod Paris",
      "photoUrl": "",
      "userId": "10535238717210992784"
     },
     "user_tz": -120
    },
    "id": "NYpleAElJmMG",
    "outputId": "dbe23249-95bc-41fc-e98e-d97a977c1725"
   },
   "outputs": [
    {
     "data": {
      "text/html": [
       "<div>\n",
       "<style scoped>\n",
       "    .dataframe tbody tr th:only-of-type {\n",
       "        vertical-align: middle;\n",
       "    }\n",
       "\n",
       "    .dataframe tbody tr th {\n",
       "        vertical-align: top;\n",
       "    }\n",
       "\n",
       "    .dataframe thead th {\n",
       "        text-align: right;\n",
       "    }\n",
       "</style>\n",
       "<table border=\"1\" class=\"dataframe\">\n",
       "  <thead>\n",
       "    <tr style=\"text-align: right;\">\n",
       "      <th></th>\n",
       "      <th>loss</th>\n",
       "      <th>accuracy</th>\n",
       "      <th>val_loss</th>\n",
       "      <th>val_accuracy</th>\n",
       "    </tr>\n",
       "  </thead>\n",
       "  <tbody>\n",
       "    <tr>\n",
       "      <th>0</th>\n",
       "      <td>1.509439</td>\n",
       "      <td>0.45798</td>\n",
       "      <td>1.311055</td>\n",
       "      <td>0.5299</td>\n",
       "    </tr>\n",
       "    <tr>\n",
       "      <th>1</th>\n",
       "      <td>1.152330</td>\n",
       "      <td>0.59886</td>\n",
       "      <td>1.137325</td>\n",
       "      <td>0.6084</td>\n",
       "    </tr>\n",
       "    <tr>\n",
       "      <th>2</th>\n",
       "      <td>1.003657</td>\n",
       "      <td>0.65298</td>\n",
       "      <td>1.360907</td>\n",
       "      <td>0.5591</td>\n",
       "    </tr>\n",
       "    <tr>\n",
       "      <th>3</th>\n",
       "      <td>0.904130</td>\n",
       "      <td>0.68804</td>\n",
       "      <td>1.014931</td>\n",
       "      <td>0.6510</td>\n",
       "    </tr>\n",
       "    <tr>\n",
       "      <th>4</th>\n",
       "      <td>0.824994</td>\n",
       "      <td>0.71676</td>\n",
       "      <td>1.121859</td>\n",
       "      <td>0.6292</td>\n",
       "    </tr>\n",
       "  </tbody>\n",
       "</table>\n",
       "</div>"
      ],
      "text/plain": [
       "       loss  accuracy  val_loss  val_accuracy\n",
       "0  1.509439   0.45798  1.311055        0.5299\n",
       "1  1.152330   0.59886  1.137325        0.6084\n",
       "2  1.003657   0.65298  1.360907        0.5591\n",
       "3  0.904130   0.68804  1.014931        0.6510\n",
       "4  0.824994   0.71676  1.121859        0.6292"
      ]
     },
     "execution_count": 30,
     "metadata": {
      "tags": []
     },
     "output_type": "execute_result"
    }
   ],
   "source": [
    "losses.head()"
   ]
  },
  {
   "cell_type": "code",
   "execution_count": null,
   "metadata": {
    "colab": {
     "base_uri": "https://localhost:8080/",
     "height": 282
    },
    "colab_type": "code",
    "executionInfo": {
     "elapsed": 579475,
     "status": "ok",
     "timestamp": 1598280212896,
     "user": {
      "displayName": "Rod Paris",
      "photoUrl": "",
      "userId": "10535238717210992784"
     },
     "user_tz": -120
    },
    "id": "rhWyc5i4JnbB",
    "outputId": "de814475-a634-4882-fbce-edf80ee673a1"
   },
   "outputs": [
    {
     "data": {
      "text/plain": [
       "<matplotlib.axes._subplots.AxesSubplot at 0x7efeeed9a7f0>"
      ]
     },
     "execution_count": 31,
     "metadata": {
      "tags": []
     },
     "output_type": "execute_result"
    },
    {
     "data": {
      "image/png": "[encoded data removed]",
      "text/plain": [
       "<Figure size 432x288 with 1 Axes>"
      ]
     },
     "metadata": {
      "needs_background": "light",
      "tags": []
     },
     "output_type": "display_data"
    }
   ],
   "source": [
    "losses[['accuracy','val_accuracy']].plot()"
   ]
  },
  {
   "cell_type": "code",
   "execution_count": null,
   "metadata": {
    "colab": {
     "base_uri": "https://localhost:8080/",
     "height": 282
    },
    "colab_type": "code",
    "executionInfo": {
     "elapsed": 579835,
     "status": "ok",
     "timestamp": 1598280213264,
     "user": {
      "displayName": "Rod Paris",
      "photoUrl": "",
      "userId": "10535238717210992784"
     },
     "user_tz": -120
    },
    "id": "thBqXi0AJozH",
    "outputId": "96a7c9ae-6c91-49d1-b611-dbb51d552493"
   },
   "outputs": [
    {
     "data": {
      "text/plain": [
       "<matplotlib.axes._subplots.AxesSubplot at 0x7efeeed34da0>"
      ]
     },
     "execution_count": 32,
     "metadata": {
      "tags": []
     },
     "output_type": "execute_result"
    },
    {
     "data": {
      "image/png": "[encoded data removed]",
      "text/plain": [
       "<Figure size 432x288 with 1 Axes>"
      ]
     },
     "metadata": {
      "needs_background": "light",
      "tags": []
     },
     "output_type": "display_data"
    }
   ],
   "source": [
    "losses[['loss','val_loss']].plot()"
   ]
  },
  {
   "cell_type": "code",
   "execution_count": null,
   "metadata": {
    "colab": {
     "base_uri": "https://localhost:8080/"
    },
    "colab_type": "code",
    "executionInfo": {
     "elapsed": 579829,
     "status": "ok",
     "timestamp": 1598280213265,
     "user": {
      "displayName": "Rod Paris",
      "photoUrl": "",
      "userId": "10535238717210992784"
     },
     "user_tz": -120
    },
    "id": "L5xOJjo0JqOg",
    "outputId": "8b403056-b03a-4476-884b-71f180e6644c"
   },
   "outputs": [
    {
     "data": {
      "text/plain": [
       "['loss', 'accuracy']"
      ]
     },
     "execution_count": 33,
     "metadata": {
      "tags": []
     },
     "output_type": "execute_result"
    }
   ],
   "source": [
    "model.metrics_names"
   ]
  },
  {
   "cell_type": "code",
   "execution_count": null,
   "metadata": {
    "colab": {
     "base_uri": "https://localhost:8080/",
     "height": 51
    },
    "colab_type": "code",
    "executionInfo": {
     "elapsed": 582601,
     "status": "ok",
     "timestamp": 1598280216043,
     "user": {
      "displayName": "Rod Paris",
      "photoUrl": "",
      "userId": "10535238717210992784"
     },
     "user_tz": -120
    },
    "id": "rIJJFbLUJrt9",
    "outputId": "289eef18-1c87-4bad-e564-51e744817e77"
   },
   "outputs": [
    {
     "name": "stdout",
     "output_type": "stream",
     "text": [
      "['loss', 'accuracy']\n",
      "[1.07038414478302, 0.6967999935150146]\n"
     ]
    }
   ],
   "source": [
    "print(model.metrics_names)\n",
    "print(model.evaluate(x_test,y_cat_test,verbose=0))"
   ]
  },
  {
   "cell_type": "code",
   "execution_count": null,
   "metadata": {
    "colab": {},
    "colab_type": "code",
    "id": "8fE-ez7aJtQG"
   },
   "outputs": [],
   "source": [
    "from sklearn.metrics import classification_report,confusion_matrix\n",
    "\n",
    "predictions = np.argmax(model.predict(x_test), axis=1)"
   ]
  },
  {
   "cell_type": "code",
   "execution_count": null,
   "metadata": {
    "colab": {
     "base_uri": "https://localhost:8080/"
    },
    "colab_type": "code",
    "executionInfo": {
     "elapsed": 585859,
     "status": "ok",
     "timestamp": 1598280219315,
     "user": {
      "displayName": "Rod Paris",
      "photoUrl": "",
      "userId": "10535238717210992784"
     },
     "user_tz": -120
    },
    "id": "X8w43gNwJu4H",
    "outputId": "bc5d96c8-5ede-43d8-881f-05ac1f3a8a48"
   },
   "outputs": [
    {
     "name": "stdout",
     "output_type": "stream",
     "text": [
      "              precision    recall  f1-score   support\n",
      "\n",
      "           0       0.71      0.73      0.72      1000\n",
      "           1       0.78      0.84      0.81      1000\n",
      "           2       0.57      0.61      0.59      1000\n",
      "           3       0.52      0.49      0.50      1000\n",
      "           4       0.66      0.69      0.68      1000\n",
      "           5       0.65      0.51      0.57      1000\n",
      "           6       0.73      0.81      0.77      1000\n",
      "           7       0.81      0.71      0.76      1000\n",
      "           8       0.74      0.82      0.78      1000\n",
      "           9       0.79      0.74      0.76      1000\n",
      "\n",
      "    accuracy                           0.70     10000\n",
      "   macro avg       0.70      0.70      0.69     10000\n",
      "weighted avg       0.70      0.70      0.69     10000\n",
      "\n"
     ]
    }
   ],
   "source": [
    "print(classification_report(y_test,predictions))"
   ]
  },
  {
   "cell_type": "code",
   "execution_count": null,
   "metadata": {
    "colab": {
     "base_uri": "https://localhost:8080/",
     "height": 187
    },
    "colab_type": "code",
    "executionInfo": {
     "elapsed": 585847,
     "status": "ok",
     "timestamp": 1598280219315,
     "user": {
      "displayName": "Rod Paris",
      "photoUrl": "",
      "userId": "10535238717210992784"
     },
     "user_tz": -120
    },
    "id": "lwIuDKOyJy05",
    "outputId": "76e5eb87-7243-4286-db5b-22c26b49bfe2"
   },
   "outputs": [
    {
     "data": {
      "text/plain": [
       "array([[729,  20,  42,  12,  17,   7,  11,   6, 116,  40],\n",
       "       [ 23, 839,   8,   7,   0,   3,  10,   4,  45,  61],\n",
       "       [ 75,   9, 614,  49,  74,  50,  68,  26,  19,  16],\n",
       "       [ 32,  17, 103, 491,  78, 112,  89,  34,  27,  17],\n",
       "       [ 23,   6,  99,  45, 695,  28,  48,  41,   9,   6],\n",
       "       [ 16,  11,  82, 215,  51, 511,  45,  46,  13,  10],\n",
       "       [  7,  11,  57,  44,  36,  17, 815,   3,   5,   5],\n",
       "       [ 32,   7,  35,  56,  76,  44,  17, 710,   8,  15],\n",
       "       [ 51,  42,  19,  14,  14,   2,   8,   1, 824,  25],\n",
       "       [ 34, 115,  13,  16,   6,  10,  10,   9,  47, 740]])"
      ]
     },
     "execution_count": 37,
     "metadata": {
      "tags": []
     },
     "output_type": "execute_result"
    }
   ],
   "source": [
    "confusion_matrix(y_test,predictions)"
   ]
  },
  {
   "cell_type": "code",
   "execution_count": null,
   "metadata": {
    "colab": {
     "base_uri": "https://localhost:8080/",
     "height": 445
    },
    "colab_type": "code",
    "executionInfo": {
     "elapsed": 586476,
     "status": "ok",
     "timestamp": 1598280219972,
     "user": {
      "displayName": "Rod Paris",
      "photoUrl": "",
      "userId": "10535238717210992784"
     },
     "user_tz": -120
    },
    "id": "9RJqLIiFJ0cc",
    "outputId": "9470073b-5162-4951-a908-19b278b0280c"
   },
   "outputs": [
    {
     "name": "stderr",
     "output_type": "stream",
     "text": [
      "/usr/local/lib/python3.6/dist-packages/statsmodels/tools/_testing.py:19: FutureWarning: pandas.util.testing is deprecated. Use the functions in the public API at pandas.testing instead.\n",
      "  import pandas.util.testing as tm\n"
     ]
    },
    {
     "data": {
      "text/plain": [
       "<matplotlib.axes._subplots.AxesSubplot at 0x7efee69366a0>"
      ]
     },
     "execution_count": 38,
     "metadata": {
      "tags": []
     },
     "output_type": "execute_result"
    },
    {
     "data": {
      "image/png": "[encoded data removed]",
      "text/plain": [
       "<Figure size 720x432 with 2 Axes>"
      ]
     },
     "metadata": {
      "needs_background": "light",
      "tags": []
     },
     "output_type": "display_data"
    }
   ],
   "source": [
    "import seaborn as sns\n",
    "plt.figure(figsize=(10,6))\n",
    "sns.heatmap(confusion_matrix(y_test,predictions),annot=True)\n",
    "# https://github.com/matplotlib/matplotlib/issues/14751"
   ]
  },
  {
   "cell_type": "markdown",
   "metadata": {
    "colab_type": "text",
    "id": "Yjo8o5lXJ5tq"
   },
   "source": [
    "## Prédiction d'une image donnée"
   ]
  },
  {
   "cell_type": "code",
   "execution_count": null,
   "metadata": {
    "colab": {},
    "colab_type": "code",
    "id": "dLpiGKCvJ2ao"
   },
   "outputs": [],
   "source": [
    "my_image = x_test[16]"
   ]
  },
  {
   "cell_type": "code",
   "execution_count": null,
   "metadata": {
    "colab": {
     "base_uri": "https://localhost:8080/"
    },
    "colab_type": "code",
    "executionInfo": {
     "elapsed": 586929,
     "status": "ok",
     "timestamp": 1598280220452,
     "user": {
      "displayName": "Rod Paris",
      "photoUrl": "",
      "userId": "10535238717210992784"
     },
     "user_tz": -120
    },
    "id": "g-Ft80VLJ9Sy",
    "outputId": "e932608e-1f22-4d1e-8c52-7b05023e82a8"
   },
   "outputs": [
    {
     "data": {
      "image/png": "[encoded data removed]",
      "text/plain": [
       "<Figure size 432x288 with 1 Axes>"
      ]
     },
     "metadata": {
      "needs_background": "light",
      "tags": []
     },
     "output_type": "display_data"
    }
   ],
   "source": [
    "plt.imshow(my_image);"
   ]
  },
  {
   "cell_type": "code",
   "execution_count": null,
   "metadata": {
    "colab": {
     "base_uri": "https://localhost:8080/"
    },
    "colab_type": "code",
    "executionInfo": {
     "elapsed": 586920,
     "status": "ok",
     "timestamp": 1598280220454,
     "user": {
      "displayName": "Rod Paris",
      "photoUrl": "",
      "userId": "10535238717210992784"
     },
     "user_tz": -120
    },
    "id": "56NT9L6MJ-rD",
    "outputId": "5ef44cbb-217c-4d0b-931a-af2363e82b0b"
   },
   "outputs": [
    {
     "data": {
      "text/plain": [
       "array([5])"
      ]
     },
     "execution_count": 41,
     "metadata": {
      "tags": []
     },
     "output_type": "execute_result"
    }
   ],
   "source": [
    "# SHAPE --> (num_images,width,height,color_channels)\n",
    "np.argmax(model.predict(my_image.reshape(1,32,32,3)),axis=1)"
   ]
  },
  {
   "cell_type": "code",
   "execution_count": null,
   "metadata": {
    "colab": {},
    "colab_type": "code",
    "id": "Jm8-QKHbKAW0"
   },
   "outputs": [],
   "source": [
    "# 5 est DOG (chien)\n",
    "# https://www.cs.toronto.edu/~kriz/cifar.html"
   ]
  }
 ],
 "metadata": {
  "colab": {
   "authorship_tag": "ABX9TyMP9nnuOzWFzb4YGviRErBF",
   "name": "02-Keras-CNN-CIFAR-10.ipynb",
   "provenance": [
    {
     "file_id": "1v6NAXOCtGI3vmoN_v30jSiuZ1gWhTHrT",
     "timestamp": 1598820687327
    }
   ]
  },
  "kernelspec": {
   "display_name": "Python 3",
   "language": "python",
   "name": "python3"
  },
  "language_info": {
   "codemirror_mode": {
    "name": "ipython",
    "version": 3
   },
   "file_extension": ".py",
   "mimetype": "text/x-python",
   "name": "python",
   "nbconvert_exporter": "python",
   "pygments_lexer": "ipython3",
   "version": "3.8.5"
  }
 },
 "nbformat": 4,
 "nbformat_minor": 1
}
