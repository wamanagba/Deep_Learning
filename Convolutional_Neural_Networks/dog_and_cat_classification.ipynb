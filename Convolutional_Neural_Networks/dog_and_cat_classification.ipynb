{
 "cells": [
  {
   "cell_type": "code",
   "execution_count": 1,
   "metadata": {},
   "outputs": [
    {
     "name": "stderr",
     "output_type": "stream",
     "text": [
      "Using TensorFlow backend.\n"
     ]
    }
   ],
   "source": [
    "# Importing libraries\n",
    "from keras.models import Sequential\n",
    "from keras.layers import Conv2D\n",
    "from keras.layers import MaxPooling2D\n",
    "from keras.layers import Flatten\n",
    "from keras.layers import Dense"
   ]
  },
  {
   "cell_type": "code",
   "execution_count": 2,
   "metadata": {},
   "outputs": [],
   "source": [
    "# Initialising the CNN\n",
    "classifier = Sequential()"
   ]
  },
  {
   "cell_type": "code",
   "execution_count": 3,
   "metadata": {},
   "outputs": [],
   "source": [
    "# Step 1 - Convolution\n",
    "classifier.add(Conv2D(32, (3, 3), input_shape = (64, 64, 3), activation = 'relu'))"
   ]
  },
  {
   "cell_type": "code",
   "execution_count": 4,
   "metadata": {},
   "outputs": [],
   "source": [
    "# Step 2 - Pooling\n",
    "classifier.add(MaxPooling2D(pool_size = (2, 2)))"
   ]
  },
  {
   "cell_type": "code",
   "execution_count": 5,
   "metadata": {},
   "outputs": [],
   "source": [
    "# Adding a second convolutional layer\n",
    "classifier.add(Conv2D(32, (3, 3), activation = 'relu'))\n",
    "classifier.add(MaxPooling2D(pool_size = (2, 2)))"
   ]
  },
  {
   "cell_type": "code",
   "execution_count": 6,
   "metadata": {},
   "outputs": [],
   "source": [
    "# Step 3 - Flattening\n",
    "classifier.add(Flatten())"
   ]
  },
  {
   "cell_type": "code",
   "execution_count": 7,
   "metadata": {},
   "outputs": [],
   "source": [
    "# Step 4 - Full connection\n",
    "classifier.add(Dense(units = 128, activation = 'relu'))\n",
    "classifier.add(Dense(units = 1, activation = 'sigmoid'))"
   ]
  },
  {
   "cell_type": "code",
   "execution_count": 8,
   "metadata": {},
   "outputs": [],
   "source": [
    "# Compiling the CNN\n",
    "classifier.compile(optimizer = 'adam', loss = 'binary_crossentropy', metrics = ['accuracy'])"
   ]
  },
  {
   "cell_type": "markdown",
   "metadata": {},
   "source": [
    "## Partie 2 - CNN"
   ]
  },
  {
   "cell_type": "code",
   "execution_count": 9,
   "metadata": {},
   "outputs": [],
   "source": [
    "from keras.preprocessing.image import ImageDataGenerator"
   ]
  },
  {
   "cell_type": "code",
   "execution_count": 10,
   "metadata": {},
   "outputs": [
    {
     "name": "stdout",
     "output_type": "stream",
     "text": [
      "Found 8000 images belonging to 2 classes.\n",
      "Found 2000 images belonging to 2 classes.\n"
     ]
    }
   ],
   "source": [
    "train_datagen = ImageDataGenerator(rescale = 1./255,\n",
    "                                   shear_range = 0.2,\n",
    "                                   zoom_range = 0.2,\n",
    "                                   horizontal_flip = True)\n",
    "\n",
    "test_datagen = ImageDataGenerator(rescale = 1./255)\n",
    "\n",
    "training_set = train_datagen.flow_from_directory('dataset/training_set',\n",
    "                                                 target_size = (64, 64),\n",
    "                                                 batch_size = 32,\n",
    "                                                 class_mode = 'binary')\n",
    "\n",
    "test_set = test_datagen.flow_from_directory('dataset/test_set',\n",
    "                                            target_size = (64, 64),\n",
    "                                            batch_size = 32,\n",
    "                                            class_mode = 'binary')"
   ]
  },
  {
   "cell_type": "code",
   "execution_count": 11,
   "metadata": {},
   "outputs": [
    {
     "name": "stdout",
     "output_type": "stream",
     "text": [
      "Epoch 1/25\n",
      "8000/8000 [==============================] - 2040s 255ms/step - loss: 0.3414 - accuracy: 0.8402 - val_loss: 0.5744 - val_accuracy: 0.7831\n",
      "Epoch 2/25\n",
      "8000/8000 [==============================] - 1745s 218ms/step - loss: 0.0925 - accuracy: 0.9653 - val_loss: 0.3774 - val_accuracy: 0.7919\n",
      "Epoch 3/25\n",
      "8000/8000 [==============================] - 1743s 218ms/step - loss: 0.0494 - accuracy: 0.9828 - val_loss: 2.0394 - val_accuracy: 0.7867\n",
      "Epoch 4/25\n",
      "8000/8000 [==============================] - 1750s 219ms/step - loss: 0.0360 - accuracy: 0.9879 - val_loss: 1.6076 - val_accuracy: 0.7934\n",
      "Epoch 5/25\n",
      "8000/8000 [==============================] - 1783s 223ms/step - loss: 0.0293 - accuracy: 0.9903 - val_loss: 1.2081 - val_accuracy: 0.7968\n",
      "Epoch 6/25\n",
      "8000/8000 [==============================] - 1887s 236ms/step - loss: 0.0236 - accuracy: 0.9920 - val_loss: 1.0330 - val_accuracy: 0.7925\n",
      "Epoch 7/25\n",
      "8000/8000 [==============================] - 1822s 228ms/step - loss: 0.0216 - accuracy: 0.9929 - val_loss: 2.1657 - val_accuracy: 0.8018\n",
      "Epoch 8/25\n",
      "8000/8000 [==============================] - 1817s 227ms/step - loss: 0.0193 - accuracy: 0.9938 - val_loss: 1.1693 - val_accuracy: 0.8040\n",
      "Epoch 9/25\n",
      "8000/8000 [==============================] - 1811s 226ms/step - loss: 0.0169 - accuracy: 0.9944 - val_loss: 2.1382 - val_accuracy: 0.8070\n",
      "Epoch 10/25\n",
      "8000/8000 [==============================] - 1918s 240ms/step - loss: 0.0156 - accuracy: 0.9951 - val_loss: 0.4240 - val_accuracy: 0.7950\n",
      "Epoch 11/25\n",
      "8000/8000 [==============================] - 1661s 208ms/step - loss: 0.0150 - accuracy: 0.9953 - val_loss: 3.6703 - val_accuracy: 0.7989\n",
      "Epoch 12/25\n",
      "8000/8000 [==============================] - 1652s 206ms/step - loss: 0.0131 - accuracy: 0.9960 - val_loss: 1.4682 - val_accuracy: 0.8011\n",
      "Epoch 13/25\n",
      "8000/8000 [==============================] - 1648s 206ms/step - loss: 0.0125 - accuracy: 0.9960 - val_loss: 2.2383 - val_accuracy: 0.7954\n",
      "Epoch 14/25\n",
      "8000/8000 [==============================] - 1647s 206ms/step - loss: 0.0110 - accuracy: 0.9963 - val_loss: 0.9424 - val_accuracy: 0.7985\n",
      "Epoch 15/25\n",
      "8000/8000 [==============================] - 1667s 208ms/step - loss: 0.0120 - accuracy: 0.9964 - val_loss: 1.9945 - val_accuracy: 0.7880\n",
      "Epoch 16/25\n",
      "8000/8000 [==============================] - 1634s 204ms/step - loss: 0.0103 - accuracy: 0.9968 - val_loss: 1.7171 - val_accuracy: 0.7890\n",
      "Epoch 17/25\n",
      "8000/8000 [==============================] - 1667s 208ms/step - loss: 0.0102 - accuracy: 0.9968 - val_loss: 1.2519 - val_accuracy: 0.7943\n",
      "Epoch 18/25\n",
      "8000/8000 [==============================] - 1639s 205ms/step - loss: 0.0089 - accuracy: 0.9974 - val_loss: 0.8002 - val_accuracy: 0.8024\n",
      "Epoch 19/25\n",
      "8000/8000 [==============================] - 1647s 206ms/step - loss: 0.0096 - accuracy: 0.9972 - val_loss: 2.2880 - val_accuracy: 0.8007\n",
      "Epoch 20/25\n",
      "8000/8000 [==============================] - 1642s 205ms/step - loss: 0.0087 - accuracy: 0.9973 - val_loss: 1.8292 - val_accuracy: 0.8030\n",
      "Epoch 21/25\n",
      "8000/8000 [==============================] - 1646s 206ms/step - loss: 0.0076 - accuracy: 0.9976 - val_loss: 0.5336 - val_accuracy: 0.8059\n",
      "Epoch 22/25\n",
      "8000/8000 [==============================] - 1655s 207ms/step - loss: 0.0086 - accuracy: 0.9974 - val_loss: 0.6076 - val_accuracy: 0.8033\n",
      "Epoch 23/25\n",
      "8000/8000 [==============================] - 1641s 205ms/step - loss: 0.0078 - accuracy: 0.9976 - val_loss: 0.5421 - val_accuracy: 0.7944\n",
      "Epoch 24/25\n",
      "8000/8000 [==============================] - 1643s 205ms/step - loss: 0.0079 - accuracy: 0.9976 - val_loss: 5.2820 - val_accuracy: 0.7891\n",
      "Epoch 25/25\n",
      "8000/8000 [==============================] - 1640s 205ms/step - loss: 0.0076 - accuracy: 0.9978 - val_loss: 3.0856 - val_accuracy: 0.8023\n"
     ]
    },
    {
     "data": {
      "text/plain": [
       "<keras.callbacks.callbacks.History at 0x7f55fc090f60>"
      ]
     },
     "execution_count": 11,
     "metadata": {},
     "output_type": "execute_result"
    }
   ],
   "source": [
    "classifier.fit_generator(training_set,\n",
    "                         steps_per_epoch = 8000,\n",
    "                         epochs = 25,\n",
    "                         validation_data = test_set,\n",
    "                         validation_steps = 2000)"
   ]
  },
  {
   "cell_type": "markdown",
   "metadata": {},
   "source": [
    "## Partie 3 - Prédictions"
   ]
  },
  {
   "cell_type": "code",
   "execution_count": 12,
   "metadata": {},
   "outputs": [],
   "source": [
    "import numpy as np\n",
    "from keras.preprocessing import image\n",
    "test_image = image.load_img('dataset/single_prediction/cat_or_dog_1.jpg', target_size = (64, 64))\n",
    "test_image = image.img_to_array(test_image)\n",
    "test_image = np.expand_dims(test_image, axis = 0)\n",
    "result = classifier.predict(test_image)\n",
    "training_set.class_indices\n",
    "if result[0][0] == 1:\n",
    "    prediction = 'dog'\n",
    "else:\n",
    "    prediction = 'cat'"
   ]
  },
  {
   "cell_type": "code",
   "execution_count": null,
   "metadata": {},
   "outputs": [],
   "source": []
  }
 ],
 "metadata": {
  "kernelspec": {
   "display_name": "Python 3",
   "language": "python",
   "name": "python3"
  },
  "language_info": {
   "codemirror_mode": {
    "name": "ipython",
    "version": 3
   },
   "file_extension": ".py",
   "mimetype": "text/x-python",
   "name": "python",
   "nbconvert_exporter": "python",
   "pygments_lexer": "ipython3",
   "version": "3.6.10"
  }
 },
 "nbformat": 4,
 "nbformat_minor": 4
}
